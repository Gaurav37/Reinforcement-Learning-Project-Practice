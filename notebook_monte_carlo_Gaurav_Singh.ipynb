{
  "cells": [
    {
      "cell_type": "markdown",
      "metadata": {
        "id": "view-in-github",
        "colab_type": "text"
      },
      "source": [
        "<a href=\"https://colab.research.google.com/github/Gaurav37/Reinforcement-Learning-Project-Practice/blob/master/notebook_monte_carlo_Gaurav_Singh.ipynb\" target=\"_parent\"><img src=\"https://colab.research.google.com/assets/colab-badge.svg\" alt=\"Open In Colab\"/></a>"
      ]
    },
    {
      "cell_type": "markdown",
      "metadata": {
        "id": "HV6rHqOyxrDU"
      },
      "source": [
        "NOTE:  If you get error messages like `IOPub message rate exceeded.` while running this notebook, close your Jupyter instance and restart it adding the option `--NotebookApp.iopub_data_rate_limit=1.0e10`.  (As instructed [here](https://stackoverflow.com/a/44679222)).  Also try `--NotebookApp.iopub_msg_rate_limit=1.0e10`."
      ]
    },
    {
      "cell_type": "markdown",
      "metadata": {
        "id": "arXncySExrDX"
      },
      "source": [
        "# Homework 3: Monte Carlo\n",
        "\n",
        "In this assignment you will implement on-policy every-visit Monte Carlo Control and off-policy every-visit Monte Carlo Control with Weighted Importance Sampling. You will apply both of these algorithms on the frozen lake and blackjack environments and visualize their performance."
      ]
    },
    {
      "cell_type": "code",
      "execution_count": null,
      "metadata": {
        "id": "OW0ZJtC-xrDY"
      },
      "outputs": [],
      "source": [
        "import copy\n",
        "import itertools as itt\n",
        "from collections import defaultdict\n",
        "from queue import deque\n",
        "\n",
        "import gym\n",
        "import matplotlib\n",
        "import matplotlib.pyplot as plt\n",
        "import numpy as np\n",
        "import tqdm\n",
        "from gym.envs.toy_text.blackjack import BlackjackEnv\n",
        "from gym.envs.toy_text.frozen_lake import FrozenLakeEnv\n",
        "from mpl_toolkits.mplot3d import Axes3D\n",
        "\n",
        "plt.style.use('ggplot')"
      ]
    },
    {
      "cell_type": "markdown",
      "metadata": {
        "id": "AntikXGpxrDa"
      },
      "source": [
        "### Setup the Environment\n",
        "\n",
        "This assignment uses two OpenAI gym environments: the frozen lake environment and the blackjack environment. Frozen lake is a grid world where the agent must reach a goal state while avoiding holes. You can get the full description of frozen lake [here](https://gym.openai.com/envs/FrozenLake-v0/), and the full description of blackjack [here](https://gym.openai.com/envs/Blackjack-v0/).  The blackjack implementation is the same as described in Example 5.1 in [SB](http://incompleteideas.net/book/the-book-2nd.html)."
      ]
    },
    {
      "cell_type": "code",
      "execution_count": null,
      "metadata": {
        "id": "pVXZe5YbxrDa"
      },
      "outputs": [],
      "source": [
        "env_blackjack = BlackjackEnv()\n",
        "env_frozen_lake = FrozenLakeEnv(desc=None, map_name=\"4x4\", is_slippery=False)"
      ]
    },
    {
      "cell_type": "markdown",
      "metadata": {
        "id": "H1_9ZTcbxrDa"
      },
      "source": [
        "### Exercise 1 (5 pts):\n",
        "\n",
        "Implement e-greedy action selection based on the current Q-values. Break ties between equal Q-values randomly. Remember an action should be a number in the range: [0, num_actions - 1]."
      ]
    },
    {
      "cell_type": "code",
      "execution_count": null,
      "metadata": {
        "id": "Y6k_MNBexrDb"
      },
      "outputs": [],
      "source": [
        "def select_action_epsilon_greedy(Q_array, *, eps):\n",
        "    \"\"\"Perform epsilon greedy action selection based on the Q-values.\n",
        "    \n",
        "    Args:\n",
        "        Q_array: A numpy array that contains Q-values relative to a single state.\n",
        "        eps: The probability to select a random action. Float between 0 and 1.\n",
        "    \n",
        "    Returns:\n",
        "        The selected action as an integer.\n",
        "        \n",
        "    Shapes:\n",
        "        Q_array: `(A,)` where `A` is the number of actions.\n",
        "        output: Scalar.\n",
        "    \"\"\"\n",
        "    assert Q_array.ndim == 1\n",
        "    \n",
        "    #  YOUR CODE HERE:  select an action using the epsilon-greedy strategy, split ties randomly.\n",
        "    \n",
        "    \"\"\"    #action = np.argmax(Q_array)\n",
        "    if np.random.random()>eps : \n",
        "        QmaxInd = np.argwhere(Q_array == np.amax(Q_array))\n",
        "        QmaxInd = QmaxInd.reshape((1, len(QmaxInd)))\n",
        "        action = np.random.choice(QmaxInd[0])\n",
        "    else:\n",
        "        action = np.random.choice(np.arange(len(Q_array)))\n",
        "    return action\n",
        "    \"\"\"\n",
        "    \n",
        "    probE=np.random.random()\n",
        "    if eps<probE:\n",
        "        #print(\"PROBE\",probE)\n",
        "        Qmax= np.max(Q_array)\n",
        "        #print(\"QMAX\",Qmax)\n",
        "        Qmaxpos=np.where(Q_array==Qmax)\n",
        "        #print(\"POS\", Qmaxpos[0])\n",
        "        #print(\"NEWPOS\", Qmaxpos)\n",
        "        #pos=pos.reshape(1,len(Qmaxpos[0]))\n",
        "        action=np.random.choice(Qmaxpos[0])\n",
        "    else :\n",
        "        action=np.random.choice(len(Q_array))\n",
        "    return action"
      ]
    },
    {
      "cell_type": "markdown",
      "metadata": {
        "id": "4_z8XJm5xrDc"
      },
      "source": [
        "Implement a procedure which samples and returns a trajectory from the environment, using the epsilon-greedy agent.  The trajectory is represented by a list of (state, action, reward) tuples."
      ]
    },
    {
      "cell_type": "code",
      "execution_count": null,
      "metadata": {
        "id": "xOgjZJXrxrDc"
      },
      "outputs": [],
      "source": [
        "def sample_episode(env, Q, *, eps):\n",
        "    \"\"\"Sample an episode from the environment, using an epsilon-greedy policy based on Q.\n",
        "    \n",
        "    Args:\n",
        "        env: The environment from which to sample episodes.\n",
        "        Q: A dictionary mapping state -> action values array.\n",
        "        eps: The epsilon-greedy parameter.\n",
        "    \n",
        "    Returns:\n",
        "        transitions: A list of (state, action, reward) tuples describing the episode.\n",
        "        \n",
        "    Shapes:\n",
        "        Q: `(A,)` Each value in Q is an array with shape `(A,)` where `A` is the number of actions.\n",
        "    \"\"\"\n",
        "    transitions = []  # store (state, action, reward) tuples here\n",
        "\n",
        "    # YOUR CODE HERE:  sample an episode and store it in the transitions list.\n",
        "    # NOTE: the Gym interface will require you to use the following methods\n",
        "    # state = env.reset()  # initialize environment and get initial state\n",
        "    # state_next, reward, done, info = env.step(action)  # perform action and receive next state, reward, done flag, and additional information.\n",
        "    \n",
        "    # ADVICE:  have a close look at what the state is (types and values), for both problems.\n",
        "    state = env.reset()\n",
        "    while True:\n",
        "#         print(current_state)\n",
        "        Qs = Q[state]\n",
        "        choosen_action = select_action_epsilon_greedy(Q_array = Qs, eps = eps)\n",
        "        next_state, reward, done, info = env.step(choosen_action)\n",
        "        transitions.append( (state, choosen_action, reward) )\n",
        "        state = next_state\n",
        "        if done==True:\n",
        "            break\n",
        "    return transitions\n"
      ]
    },
    {
      "cell_type": "markdown",
      "metadata": {
        "id": "TOFtN8DWxrDd"
      },
      "source": [
        "### Exercise 2 (10 pts):\n",
        "\n",
        "Implement the on-policy every-visit Monte Carlo update using the incremental update formula in Section 2.3 in SB. Recall that in Chapter 2 we averaged the *rewards* whereas in MC we average the *returns*. In the formula below $G_n$ denotes the return at timestep $n$.\n",
        "\n",
        "$$\n",
        "\\begin{equation}\n",
        "    Q_{n+1} = Q_n + \\alpha_n [G_n - Q_n]\n",
        "\\end{equation}\n",
        "$$"
      ]
    },
    {
      "cell_type": "code",
      "execution_count": null,
      "metadata": {
        "id": "sDra1xJ8xrDd"
      },
      "outputs": [],
      "source": [
        "def on_policy_every_visit_mc_control(env, num_episodes, *, eps, gamma):\n",
        "    \"\"\"Train an on-policy every-visit MC agent.\n",
        "    \n",
        "    Args:\n",
        "        env: The environment to train the agent on.\n",
        "        num_episodes: The number of episodes to train the agent for.\n",
        "        eps: The probability to select a random action. Float between 0.0 and 1.0.     \n",
        "        gamma: The discount factor.\n",
        "        \n",
        "    Returns:\n",
        "        Q: a dictionary mapping state -> action values array.\n",
        "        returns: an array containing the returns obtained for each episode during training.\n",
        "    \n",
        "    Shapes:\n",
        "        Q: `(A,)` Each value in Q is an array with shape `(A,)` where `A` is the number of actions.\n",
        "        returns: `(E,)` where E is the number of episodes we are using to train the agent.\n",
        "    \"\"\"\n",
        "    \n",
        "    # NOTE:  The pseudo-code in the book explicitly stores lists of returns for each (s,a) pair.\n",
        "    # We want to be more memory-efficient;  so we will store counts `C` for each (s,a) pair, and use\n",
        "    # the update rule in SB 2.3 to compute the same average, without having to store all the returns.\n",
        "\n",
        "    # Create Q function dict with default values, and C (the counts) dict with default values\n",
        "    Q = defaultdict(lambda: np.zeros([env.action_space.n]))\n",
        "    C = defaultdict(lambda: np.zeros([env.action_space.n], dtype=np.int))\n",
        "\n",
        "    G_queue = deque(maxlen=100)  # stores 100 most recent episode returns for diagnostics\n",
        "    \n",
        "    # Returns array to store episode performances\n",
        "    returns = np.empty(num_episodes)\n",
        "\n",
        "    pbar = tqdm.tnrange(num_episodes, leave=False)  # progress bar\n",
        "    for i in pbar:\n",
        "        G = 0.0\n",
        "        \n",
        "        # YOUR CODE HERE:  sample an episode, and use the transition list to compute returns and update Q and C.\n",
        "\n",
        "        trans=sample_episode(env, Q, eps=eps)\n",
        "        \n",
        "        trans.reverse()\n",
        "        for count1 in trans:\n",
        "            #print(\"COUNT1 VALUE\",count1)\n",
        "            #print(\"COUNT2\",count1[0][1])\n",
        "            G=G+count1[2]\n",
        "            #print(\"GGGG is\",G)\n",
        "            C[count1[0]][count1[1]]+=1\n",
        "            #Cbar=C[count1[0]][count1[1]]\n",
        "            #print(\"CBAR\",Cbar)\n",
        "            Q[count1[0]][count1[1]]=Q[count1[0]][count1[1]]+((G-Q[count1[0]][count1[1]])/(C[count1[0]][count1[1]]))\n",
        "        returns[i]=G\n",
        "            #print(\"RETURNS\",returns)\n",
        "        # diagnostics\n",
        "        G_queue.append(G)\n",
        "        pbar.set_description(f'Episodes G={sum(G_queue) / len(G_queue)}')\n",
        "        \n",
        "    return Q, returns\n",
        "            #print(\"QNAME\",Q)\n",
        "        #print(\"LEN_OF_Q\",len(Q))\n",
        "        #for count in range(len(Q)):\n",
        "#        \"\"\"trans=sample_episode(env, Q, eps)\n",
        "#        print(\"TRANS\",trans)\n",
        "#        #print(\"RANGE OF TRANS\",range(trans))\n",
        "#        #for count1 in reversed((trans)):\n",
        "#        trans.reverse()\n",
        "#        for count1 in trans:\n",
        "#            #print(\"COUNT1 VALUE\",count1)\n",
        "#            #print(\"COUNT2\",count1[0][1])\n",
        "#            G=(gamma*G)+count1[0][2]\n",
        "#            #print(\"GGGG is\",G)\n",
        "#            C[count1[0][0]][count1[0][1]]+=1\n",
        "#            Cbar=C[count1[0][0]][count1[0][1]]\n",
        "#            #print(\"CBAR\",Cbar)\n",
        "#            Q[count1[0][0]][count1[0][1]]=Q[count1[0][0]][count1[0][1]]+((G-Q[count1[0][0]][count1[0][1]])/Cbar)\n",
        "#            returns=G\n",
        "#            print(\"RETURNS\",returns)\n",
        "#            # diagnostics\n",
        "#        G_queue.append(G)\n",
        "#        pbar.set_description(f'Episodes G={sum(G_queue) / len(G_queue)}')\n",
        "#        \"\"\""
      ]
    },
    {
      "cell_type": "markdown",
      "metadata": {
        "id": "B24JFyuLxrDe"
      },
      "source": [
        "### Exercise 3 (15 pts):\n",
        "\n",
        "a) (2 pts) Calculate the learning curve (or returns) for the frozen lake environment, averaged over 50 independent runs and 1k episodes each, using $\\gamma = 1.0$ and $\\epsilon = 0.5$."
      ]
    },
    {
      "cell_type": "code",
      "execution_count": null,
      "metadata": {
        "id": "GN6HumvrxrDf",
        "outputId": "d9abd0c7-fef9-415b-ab95-488605a30e15",
        "colab": {
          "referenced_widgets": [
            "206ef09238294d37986d903a7fd0e730",
            ""
          ]
        }
      },
      "outputs": [
        {
          "name": "stdout",
          "output_type": "stream",
          "text": [
            "#############################################################\n",
            "#############################################################\n",
            "#############################################################\n",
            "#############################################################\n",
            "#############################################################\n",
            "#############################################################\n",
            "#############################################################\n",
            "#############################################################\n",
            "#############################################################\n",
            "#############################################################\n"
          ]
        },
        {
          "name": "stderr",
          "output_type": "stream",
          "text": [
            "C:\\ProgramData\\Anaconda3\\lib\\site-packages\\ipykernel_launcher.py:15: TqdmDeprecationWarning: Please use `tqdm.notebook.trange` instead of `tqdm.tnrange`\n",
            "  from ipykernel import kernelapp as app\n"
          ]
        },
        {
          "data": {
            "application/vnd.jupyter.widget-view+json": {
              "model_id": "206ef09238294d37986d903a7fd0e730",
              "version_major": 2,
              "version_minor": 0
            },
            "text/plain": [
              "HBox(children=(FloatProgress(value=0.0, description='Runs', max=50.0, style=ProgressStyle(description_width='i…"
            ]
          },
          "metadata": {},
          "output_type": "display_data"
        },
        {
          "name": "stderr",
          "output_type": "stream",
          "text": [
            "C:\\ProgramData\\Anaconda3\\lib\\site-packages\\ipykernel_launcher.py:32: TqdmDeprecationWarning: Please use `tqdm.notebook.trange` instead of `tqdm.tnrange`\n"
          ]
        },
        {
          "data": {
            "application/vnd.jupyter.widget-view+json": {
              "model_id": "",
              "version_major": 2,
              "version_minor": 0
            },
            "text/plain": [
              "HBox(children=(FloatProgress(value=0.0, max=1000.0), HTML(value='')))"
            ]
          },
          "metadata": {},
          "output_type": "display_data"
        },
        {
          "data": {
            "application/vnd.jupyter.widget-view+json": {
              "model_id": "",
              "version_major": 2,
              "version_minor": 0
            },
            "text/plain": [
              "HBox(children=(FloatProgress(value=0.0, max=1000.0), HTML(value='')))"
            ]
          },
          "metadata": {},
          "output_type": "display_data"
        },
        {
          "data": {
            "application/vnd.jupyter.widget-view+json": {
              "model_id": "",
              "version_major": 2,
              "version_minor": 0
            },
            "text/plain": [
              "HBox(children=(FloatProgress(value=0.0, max=1000.0), HTML(value='')))"
            ]
          },
          "metadata": {},
          "output_type": "display_data"
        },
        {
          "data": {
            "application/vnd.jupyter.widget-view+json": {
              "model_id": "",
              "version_major": 2,
              "version_minor": 0
            },
            "text/plain": [
              "HBox(children=(FloatProgress(value=0.0, max=1000.0), HTML(value='')))"
            ]
          },
          "metadata": {},
          "output_type": "display_data"
        },
        {
          "data": {
            "application/vnd.jupyter.widget-view+json": {
              "model_id": "",
              "version_major": 2,
              "version_minor": 0
            },
            "text/plain": [
              "HBox(children=(FloatProgress(value=0.0, max=1000.0), HTML(value='')))"
            ]
          },
          "metadata": {},
          "output_type": "display_data"
        },
        {
          "data": {
            "application/vnd.jupyter.widget-view+json": {
              "model_id": "",
              "version_major": 2,
              "version_minor": 0
            },
            "text/plain": [
              "HBox(children=(FloatProgress(value=0.0, max=1000.0), HTML(value='')))"
            ]
          },
          "metadata": {},
          "output_type": "display_data"
        },
        {
          "data": {
            "application/vnd.jupyter.widget-view+json": {
              "model_id": "",
              "version_major": 2,
              "version_minor": 0
            },
            "text/plain": [
              "HBox(children=(FloatProgress(value=0.0, max=1000.0), HTML(value='')))"
            ]
          },
          "metadata": {},
          "output_type": "display_data"
        },
        {
          "data": {
            "application/vnd.jupyter.widget-view+json": {
              "model_id": "",
              "version_major": 2,
              "version_minor": 0
            },
            "text/plain": [
              "HBox(children=(FloatProgress(value=0.0, max=1000.0), HTML(value='')))"
            ]
          },
          "metadata": {},
          "output_type": "display_data"
        },
        {
          "data": {
            "application/vnd.jupyter.widget-view+json": {
              "model_id": "",
              "version_major": 2,
              "version_minor": 0
            },
            "text/plain": [
              "HBox(children=(FloatProgress(value=0.0, max=1000.0), HTML(value='')))"
            ]
          },
          "metadata": {},
          "output_type": "display_data"
        },
        {
          "data": {
            "application/vnd.jupyter.widget-view+json": {
              "model_id": "",
              "version_major": 2,
              "version_minor": 0
            },
            "text/plain": [
              "HBox(children=(FloatProgress(value=0.0, max=1000.0), HTML(value='')))"
            ]
          },
          "metadata": {},
          "output_type": "display_data"
        },
        {
          "data": {
            "application/vnd.jupyter.widget-view+json": {
              "model_id": "",
              "version_major": 2,
              "version_minor": 0
            },
            "text/plain": [
              "HBox(children=(FloatProgress(value=0.0, max=1000.0), HTML(value='')))"
            ]
          },
          "metadata": {},
          "output_type": "display_data"
        },
        {
          "data": {
            "application/vnd.jupyter.widget-view+json": {
              "model_id": "",
              "version_major": 2,
              "version_minor": 0
            },
            "text/plain": [
              "HBox(children=(FloatProgress(value=0.0, max=1000.0), HTML(value='')))"
            ]
          },
          "metadata": {},
          "output_type": "display_data"
        },
        {
          "data": {
            "application/vnd.jupyter.widget-view+json": {
              "model_id": "",
              "version_major": 2,
              "version_minor": 0
            },
            "text/plain": [
              "HBox(children=(FloatProgress(value=0.0, max=1000.0), HTML(value='')))"
            ]
          },
          "metadata": {},
          "output_type": "display_data"
        },
        {
          "data": {
            "application/vnd.jupyter.widget-view+json": {
              "model_id": "",
              "version_major": 2,
              "version_minor": 0
            },
            "text/plain": [
              "HBox(children=(FloatProgress(value=0.0, max=1000.0), HTML(value='')))"
            ]
          },
          "metadata": {},
          "output_type": "display_data"
        },
        {
          "data": {
            "application/vnd.jupyter.widget-view+json": {
              "model_id": "",
              "version_major": 2,
              "version_minor": 0
            },
            "text/plain": [
              "HBox(children=(FloatProgress(value=0.0, max=1000.0), HTML(value='')))"
            ]
          },
          "metadata": {},
          "output_type": "display_data"
        },
        {
          "data": {
            "application/vnd.jupyter.widget-view+json": {
              "model_id": "",
              "version_major": 2,
              "version_minor": 0
            },
            "text/plain": [
              "HBox(children=(FloatProgress(value=0.0, max=1000.0), HTML(value='')))"
            ]
          },
          "metadata": {},
          "output_type": "display_data"
        },
        {
          "data": {
            "application/vnd.jupyter.widget-view+json": {
              "model_id": "",
              "version_major": 2,
              "version_minor": 0
            },
            "text/plain": [
              "HBox(children=(FloatProgress(value=0.0, max=1000.0), HTML(value='')))"
            ]
          },
          "metadata": {},
          "output_type": "display_data"
        },
        {
          "data": {
            "application/vnd.jupyter.widget-view+json": {
              "model_id": "",
              "version_major": 2,
              "version_minor": 0
            },
            "text/plain": [
              "HBox(children=(FloatProgress(value=0.0, max=1000.0), HTML(value='')))"
            ]
          },
          "metadata": {},
          "output_type": "display_data"
        },
        {
          "data": {
            "application/vnd.jupyter.widget-view+json": {
              "model_id": "",
              "version_major": 2,
              "version_minor": 0
            },
            "text/plain": [
              "HBox(children=(FloatProgress(value=0.0, max=1000.0), HTML(value='')))"
            ]
          },
          "metadata": {},
          "output_type": "display_data"
        },
        {
          "data": {
            "application/vnd.jupyter.widget-view+json": {
              "model_id": "",
              "version_major": 2,
              "version_minor": 0
            },
            "text/plain": [
              "HBox(children=(FloatProgress(value=0.0, max=1000.0), HTML(value='')))"
            ]
          },
          "metadata": {},
          "output_type": "display_data"
        },
        {
          "data": {
            "application/vnd.jupyter.widget-view+json": {
              "model_id": "",
              "version_major": 2,
              "version_minor": 0
            },
            "text/plain": [
              "HBox(children=(FloatProgress(value=0.0, max=1000.0), HTML(value='')))"
            ]
          },
          "metadata": {},
          "output_type": "display_data"
        },
        {
          "data": {
            "application/vnd.jupyter.widget-view+json": {
              "model_id": "",
              "version_major": 2,
              "version_minor": 0
            },
            "text/plain": [
              "HBox(children=(FloatProgress(value=0.0, max=1000.0), HTML(value='')))"
            ]
          },
          "metadata": {},
          "output_type": "display_data"
        },
        {
          "data": {
            "application/vnd.jupyter.widget-view+json": {
              "model_id": "",
              "version_major": 2,
              "version_minor": 0
            },
            "text/plain": [
              "HBox(children=(FloatProgress(value=0.0, max=1000.0), HTML(value='')))"
            ]
          },
          "metadata": {},
          "output_type": "display_data"
        },
        {
          "data": {
            "application/vnd.jupyter.widget-view+json": {
              "model_id": "",
              "version_major": 2,
              "version_minor": 0
            },
            "text/plain": [
              "HBox(children=(FloatProgress(value=0.0, max=1000.0), HTML(value='')))"
            ]
          },
          "metadata": {},
          "output_type": "display_data"
        },
        {
          "data": {
            "application/vnd.jupyter.widget-view+json": {
              "model_id": "",
              "version_major": 2,
              "version_minor": 0
            },
            "text/plain": [
              "HBox(children=(FloatProgress(value=0.0, max=1000.0), HTML(value='')))"
            ]
          },
          "metadata": {},
          "output_type": "display_data"
        },
        {
          "data": {
            "application/vnd.jupyter.widget-view+json": {
              "model_id": "",
              "version_major": 2,
              "version_minor": 0
            },
            "text/plain": [
              "HBox(children=(FloatProgress(value=0.0, max=1000.0), HTML(value='')))"
            ]
          },
          "metadata": {},
          "output_type": "display_data"
        },
        {
          "data": {
            "application/vnd.jupyter.widget-view+json": {
              "model_id": "",
              "version_major": 2,
              "version_minor": 0
            },
            "text/plain": [
              "HBox(children=(FloatProgress(value=0.0, max=1000.0), HTML(value='')))"
            ]
          },
          "metadata": {},
          "output_type": "display_data"
        },
        {
          "data": {
            "application/vnd.jupyter.widget-view+json": {
              "model_id": "",
              "version_major": 2,
              "version_minor": 0
            },
            "text/plain": [
              "HBox(children=(FloatProgress(value=0.0, max=1000.0), HTML(value='')))"
            ]
          },
          "metadata": {},
          "output_type": "display_data"
        },
        {
          "data": {
            "application/vnd.jupyter.widget-view+json": {
              "model_id": "",
              "version_major": 2,
              "version_minor": 0
            },
            "text/plain": [
              "HBox(children=(FloatProgress(value=0.0, max=1000.0), HTML(value='')))"
            ]
          },
          "metadata": {},
          "output_type": "display_data"
        },
        {
          "data": {
            "application/vnd.jupyter.widget-view+json": {
              "model_id": "",
              "version_major": 2,
              "version_minor": 0
            },
            "text/plain": [
              "HBox(children=(FloatProgress(value=0.0, max=1000.0), HTML(value='')))"
            ]
          },
          "metadata": {},
          "output_type": "display_data"
        },
        {
          "data": {
            "application/vnd.jupyter.widget-view+json": {
              "model_id": "",
              "version_major": 2,
              "version_minor": 0
            },
            "text/plain": [
              "HBox(children=(FloatProgress(value=0.0, max=1000.0), HTML(value='')))"
            ]
          },
          "metadata": {},
          "output_type": "display_data"
        },
        {
          "data": {
            "application/vnd.jupyter.widget-view+json": {
              "model_id": "",
              "version_major": 2,
              "version_minor": 0
            },
            "text/plain": [
              "HBox(children=(FloatProgress(value=0.0, max=1000.0), HTML(value='')))"
            ]
          },
          "metadata": {},
          "output_type": "display_data"
        },
        {
          "data": {
            "application/vnd.jupyter.widget-view+json": {
              "model_id": "",
              "version_major": 2,
              "version_minor": 0
            },
            "text/plain": [
              "HBox(children=(FloatProgress(value=0.0, max=1000.0), HTML(value='')))"
            ]
          },
          "metadata": {},
          "output_type": "display_data"
        },
        {
          "data": {
            "application/vnd.jupyter.widget-view+json": {
              "model_id": "",
              "version_major": 2,
              "version_minor": 0
            },
            "text/plain": [
              "HBox(children=(FloatProgress(value=0.0, max=1000.0), HTML(value='')))"
            ]
          },
          "metadata": {},
          "output_type": "display_data"
        },
        {
          "data": {
            "application/vnd.jupyter.widget-view+json": {
              "model_id": "",
              "version_major": 2,
              "version_minor": 0
            },
            "text/plain": [
              "HBox(children=(FloatProgress(value=0.0, max=1000.0), HTML(value='')))"
            ]
          },
          "metadata": {},
          "output_type": "display_data"
        },
        {
          "data": {
            "application/vnd.jupyter.widget-view+json": {
              "model_id": "",
              "version_major": 2,
              "version_minor": 0
            },
            "text/plain": [
              "HBox(children=(FloatProgress(value=0.0, max=1000.0), HTML(value='')))"
            ]
          },
          "metadata": {},
          "output_type": "display_data"
        },
        {
          "data": {
            "application/vnd.jupyter.widget-view+json": {
              "model_id": "",
              "version_major": 2,
              "version_minor": 0
            },
            "text/plain": [
              "HBox(children=(FloatProgress(value=0.0, max=1000.0), HTML(value='')))"
            ]
          },
          "metadata": {},
          "output_type": "display_data"
        },
        {
          "data": {
            "application/vnd.jupyter.widget-view+json": {
              "model_id": "",
              "version_major": 2,
              "version_minor": 0
            },
            "text/plain": [
              "HBox(children=(FloatProgress(value=0.0, max=1000.0), HTML(value='')))"
            ]
          },
          "metadata": {},
          "output_type": "display_data"
        },
        {
          "data": {
            "application/vnd.jupyter.widget-view+json": {
              "model_id": "",
              "version_major": 2,
              "version_minor": 0
            },
            "text/plain": [
              "HBox(children=(FloatProgress(value=0.0, max=1000.0), HTML(value='')))"
            ]
          },
          "metadata": {},
          "output_type": "display_data"
        },
        {
          "data": {
            "application/vnd.jupyter.widget-view+json": {
              "model_id": "",
              "version_major": 2,
              "version_minor": 0
            },
            "text/plain": [
              "HBox(children=(FloatProgress(value=0.0, max=1000.0), HTML(value='')))"
            ]
          },
          "metadata": {},
          "output_type": "display_data"
        },
        {
          "data": {
            "application/vnd.jupyter.widget-view+json": {
              "model_id": "",
              "version_major": 2,
              "version_minor": 0
            },
            "text/plain": [
              "HBox(children=(FloatProgress(value=0.0, max=1000.0), HTML(value='')))"
            ]
          },
          "metadata": {},
          "output_type": "display_data"
        },
        {
          "data": {
            "application/vnd.jupyter.widget-view+json": {
              "model_id": "",
              "version_major": 2,
              "version_minor": 0
            },
            "text/plain": [
              "HBox(children=(FloatProgress(value=0.0, max=1000.0), HTML(value='')))"
            ]
          },
          "metadata": {},
          "output_type": "display_data"
        },
        {
          "data": {
            "application/vnd.jupyter.widget-view+json": {
              "model_id": "",
              "version_major": 2,
              "version_minor": 0
            },
            "text/plain": [
              "HBox(children=(FloatProgress(value=0.0, max=1000.0), HTML(value='')))"
            ]
          },
          "metadata": {},
          "output_type": "display_data"
        },
        {
          "data": {
            "application/vnd.jupyter.widget-view+json": {
              "model_id": "",
              "version_major": 2,
              "version_minor": 0
            },
            "text/plain": [
              "HBox(children=(FloatProgress(value=0.0, max=1000.0), HTML(value='')))"
            ]
          },
          "metadata": {},
          "output_type": "display_data"
        },
        {
          "data": {
            "application/vnd.jupyter.widget-view+json": {
              "model_id": "",
              "version_major": 2,
              "version_minor": 0
            },
            "text/plain": [
              "HBox(children=(FloatProgress(value=0.0, max=1000.0), HTML(value='')))"
            ]
          },
          "metadata": {},
          "output_type": "display_data"
        },
        {
          "data": {
            "application/vnd.jupyter.widget-view+json": {
              "model_id": "",
              "version_major": 2,
              "version_minor": 0
            },
            "text/plain": [
              "HBox(children=(FloatProgress(value=0.0, max=1000.0), HTML(value='')))"
            ]
          },
          "metadata": {},
          "output_type": "display_data"
        },
        {
          "data": {
            "application/vnd.jupyter.widget-view+json": {
              "model_id": "",
              "version_major": 2,
              "version_minor": 0
            },
            "text/plain": [
              "HBox(children=(FloatProgress(value=0.0, max=1000.0), HTML(value='')))"
            ]
          },
          "metadata": {},
          "output_type": "display_data"
        },
        {
          "data": {
            "application/vnd.jupyter.widget-view+json": {
              "model_id": "",
              "version_major": 2,
              "version_minor": 0
            },
            "text/plain": [
              "HBox(children=(FloatProgress(value=0.0, max=1000.0), HTML(value='')))"
            ]
          },
          "metadata": {},
          "output_type": "display_data"
        },
        {
          "data": {
            "application/vnd.jupyter.widget-view+json": {
              "model_id": "",
              "version_major": 2,
              "version_minor": 0
            },
            "text/plain": [
              "HBox(children=(FloatProgress(value=0.0, max=1000.0), HTML(value='')))"
            ]
          },
          "metadata": {},
          "output_type": "display_data"
        },
        {
          "data": {
            "application/vnd.jupyter.widget-view+json": {
              "model_id": "",
              "version_major": 2,
              "version_minor": 0
            },
            "text/plain": [
              "HBox(children=(FloatProgress(value=0.0, max=1000.0), HTML(value='')))"
            ]
          },
          "metadata": {},
          "output_type": "display_data"
        },
        {
          "name": "stdout",
          "output_type": "stream",
          "text": [
            "\n"
          ]
        }
      ],
      "source": [
        "num_runs, num_episodes = 50, 1_000\n",
        "returns_fl = np.empty((num_runs, num_episodes))\n",
        "\n",
        "print(\"#############################################################\")\n",
        "print(\"#############################################################\")\n",
        "print(\"#############################################################\")\n",
        "print(\"#############################################################\")\n",
        "print(\"#############################################################\")\n",
        "print(\"#############################################################\")\n",
        "print(\"#############################################################\")\n",
        "print(\"#############################################################\")\n",
        "print(\"#############################################################\")\n",
        "print(\"#############################################################\")\n",
        "\n",
        "for i in tqdm.tnrange(num_runs, desc='Runs'):\n",
        "    # YOUR CODE HERE\n",
        "    Q, returns = on_policy_every_visit_mc_control(env_frozen_lake, num_episodes, eps=0.015, gamma=1)\n",
        "    returns_fl[i] = returns"
      ]
    },
    {
      "cell_type": "markdown",
      "metadata": {
        "id": "2WyWekFxxrDf"
      },
      "source": [
        "b) (3 pts) Plot the resulting learning curve, averaging over the 50 runs, for the frozen lake environment.  If the results are noisy, use the following function to also plot, in the same figure, a smoother version of the same data.  Use these plots as a basis to find a better $\\epsilon$ parameter, which makes the performance converge better."
      ]
    },
    {
      "cell_type": "code",
      "execution_count": null,
      "metadata": {
        "id": "vtaymT7qxrDg"
      },
      "outputs": [],
      "source": [
        "def rolling_average(data, *, window_size):\n",
        "    \"\"\"Smoothen the 1-d data array using a rollin average.\n",
        "    \n",
        "    Args:\n",
        "        data: 1-d numpy.array\n",
        "        window_size: size of the smoothing window\n",
        "        \n",
        "    Returns:\n",
        "        smooth_data: a 1-d numpy.array with the same size as data\n",
        "    \"\"\"\n",
        "    assert data.ndim == 1\n",
        "    kernel = np.ones(window_size)\n",
        "    smooth_data = np.convolve(data, kernel) / np.convolve(np.ones_like(data), kernel)\n",
        "    return smooth_data[: -window_size + 1]"
      ]
    },
    {
      "cell_type": "code",
      "execution_count": null,
      "metadata": {
        "scrolled": true,
        "id": "Oyymec8exrDg",
        "outputId": "7146276c-d8a8-4bd8-e7f4-839abcb41957"
      },
      "outputs": [
        {
          "data": {
            "text/plain": [
              "[<matplotlib.lines.Line2D at 0x1f06216ca08>]"
            ]
          },
          "execution_count": 8,
          "metadata": {},
          "output_type": "execute_result"
        },
        {
          "data": {
            "image/png": "[encoded data removed]",
            "text/plain": [
              "<Figure size 432x288 with 1 Axes>"
            ]
          },
          "metadata": {},
          "output_type": "display_data"
        }
      ],
      "source": [
        "# YOUR CODE HERE\n",
        "average_of_returns = np.mean(returns_fl, axis = 0)\n",
        "epi=(np.linspace(1,1001,1000))\n",
        "plt.plot(epi,average_of_returns)\n",
        "plt.plot(epi,rolling_average(average_of_returns, window_size=50))"
      ]
    },
    {
      "cell_type": "markdown",
      "metadata": {
        "id": "OuKXR3ItxrDg"
      },
      "source": [
        "c) (5 pts) Compute and plot the learning curve for the blackjack environment, this time averaging 50 runs of 5k episodes each.  Again, start with $\\epsilon = 0.5$, and use the resulting plots to find a better $\\epsilon$ with better convergence."
      ]
    },
    {
      "cell_type": "code",
      "execution_count": null,
      "metadata": {
        "id": "6txoXa83xrDh",
        "outputId": "5b99bdb4-b3e7-4836-c46d-f682bdd2b6da",
        "colab": {
          "referenced_widgets": [
            "323be62284ef498c8a8502aa13e491c3",
            "",
            "cee1ae3505984b209929c5cdd5ac65ee",
            "fa9a7dd92df54d0daa65355306614aa6",
            "dd5340c4a07c4b3494dc53200b85bc82",
            "b858735339f140f9afc43a5e88be472e"
          ]
        }
      },
      "outputs": [
        {
          "data": {
            "application/vnd.jupyter.widget-view+json": {
              "model_id": "323be62284ef498c8a8502aa13e491c3",
              "version_major": 2,
              "version_minor": 0
            },
            "text/plain": [
              "HBox(children=(IntProgress(value=0, description='Runs', max=50, style=ProgressStyle(description_width='initial…"
            ]
          },
          "metadata": {},
          "output_type": "display_data"
        },
        {
          "data": {
            "application/vnd.jupyter.widget-view+json": {
              "model_id": "",
              "version_major": 2,
              "version_minor": 0
            },
            "text/plain": [
              "HBox(children=(IntProgress(value=0, max=5000), HTML(value='')))"
            ]
          },
          "metadata": {},
          "output_type": "display_data"
        },
        {
          "data": {
            "application/vnd.jupyter.widget-view+json": {
              "model_id": "",
              "version_major": 2,
              "version_minor": 0
            },
            "text/plain": [
              "HBox(children=(IntProgress(value=0, max=5000), HTML(value='')))"
            ]
          },
          "metadata": {},
          "output_type": "display_data"
        },
        {
          "data": {
            "application/vnd.jupyter.widget-view+json": {
              "model_id": "",
              "version_major": 2,
              "version_minor": 0
            },
            "text/plain": [
              "HBox(children=(IntProgress(value=0, max=5000), HTML(value='')))"
            ]
          },
          "metadata": {},
          "output_type": "display_data"
        },
        {
          "data": {
            "application/vnd.jupyter.widget-view+json": {
              "model_id": "",
              "version_major": 2,
              "version_minor": 0
            },
            "text/plain": [
              "HBox(children=(IntProgress(value=0, max=5000), HTML(value='')))"
            ]
          },
          "metadata": {},
          "output_type": "display_data"
        },
        {
          "data": {
            "application/vnd.jupyter.widget-view+json": {
              "model_id": "",
              "version_major": 2,
              "version_minor": 0
            },
            "text/plain": [
              "HBox(children=(IntProgress(value=0, max=5000), HTML(value='')))"
            ]
          },
          "metadata": {},
          "output_type": "display_data"
        },
        {
          "data": {
            "application/vnd.jupyter.widget-view+json": {
              "model_id": "",
              "version_major": 2,
              "version_minor": 0
            },
            "text/plain": [
              "HBox(children=(IntProgress(value=0, max=5000), HTML(value='')))"
            ]
          },
          "metadata": {},
          "output_type": "display_data"
        },
        {
          "data": {
            "application/vnd.jupyter.widget-view+json": {
              "model_id": "",
              "version_major": 2,
              "version_minor": 0
            },
            "text/plain": [
              "HBox(children=(IntProgress(value=0, max=5000), HTML(value='')))"
            ]
          },
          "metadata": {},
          "output_type": "display_data"
        },
        {
          "data": {
            "application/vnd.jupyter.widget-view+json": {
              "model_id": "",
              "version_major": 2,
              "version_minor": 0
            },
            "text/plain": [
              "HBox(children=(IntProgress(value=0, max=5000), HTML(value='')))"
            ]
          },
          "metadata": {},
          "output_type": "display_data"
        },
        {
          "data": {
            "application/vnd.jupyter.widget-view+json": {
              "model_id": "",
              "version_major": 2,
              "version_minor": 0
            },
            "text/plain": [
              "HBox(children=(IntProgress(value=0, max=5000), HTML(value='')))"
            ]
          },
          "metadata": {},
          "output_type": "display_data"
        },
        {
          "data": {
            "application/vnd.jupyter.widget-view+json": {
              "model_id": "",
              "version_major": 2,
              "version_minor": 0
            },
            "text/plain": [
              "HBox(children=(IntProgress(value=0, max=5000), HTML(value='')))"
            ]
          },
          "metadata": {},
          "output_type": "display_data"
        },
        {
          "data": {
            "application/vnd.jupyter.widget-view+json": {
              "model_id": "",
              "version_major": 2,
              "version_minor": 0
            },
            "text/plain": [
              "HBox(children=(IntProgress(value=0, max=5000), HTML(value='')))"
            ]
          },
          "metadata": {},
          "output_type": "display_data"
        },
        {
          "data": {
            "application/vnd.jupyter.widget-view+json": {
              "model_id": "",
              "version_major": 2,
              "version_minor": 0
            },
            "text/plain": [
              "HBox(children=(IntProgress(value=0, max=5000), HTML(value='')))"
            ]
          },
          "metadata": {},
          "output_type": "display_data"
        },
        {
          "data": {
            "application/vnd.jupyter.widget-view+json": {
              "model_id": "",
              "version_major": 2,
              "version_minor": 0
            },
            "text/plain": [
              "HBox(children=(IntProgress(value=0, max=5000), HTML(value='')))"
            ]
          },
          "metadata": {},
          "output_type": "display_data"
        },
        {
          "data": {
            "application/vnd.jupyter.widget-view+json": {
              "model_id": "",
              "version_major": 2,
              "version_minor": 0
            },
            "text/plain": [
              "HBox(children=(IntProgress(value=0, max=5000), HTML(value='')))"
            ]
          },
          "metadata": {},
          "output_type": "display_data"
        },
        {
          "data": {
            "application/vnd.jupyter.widget-view+json": {
              "model_id": "",
              "version_major": 2,
              "version_minor": 0
            },
            "text/plain": [
              "HBox(children=(IntProgress(value=0, max=5000), HTML(value='')))"
            ]
          },
          "metadata": {},
          "output_type": "display_data"
        },
        {
          "data": {
            "application/vnd.jupyter.widget-view+json": {
              "model_id": "",
              "version_major": 2,
              "version_minor": 0
            },
            "text/plain": [
              "HBox(children=(IntProgress(value=0, max=5000), HTML(value='')))"
            ]
          },
          "metadata": {},
          "output_type": "display_data"
        },
        {
          "data": {
            "application/vnd.jupyter.widget-view+json": {
              "model_id": "",
              "version_major": 2,
              "version_minor": 0
            },
            "text/plain": [
              "HBox(children=(IntProgress(value=0, max=5000), HTML(value='')))"
            ]
          },
          "metadata": {},
          "output_type": "display_data"
        },
        {
          "data": {
            "application/vnd.jupyter.widget-view+json": {
              "model_id": "",
              "version_major": 2,
              "version_minor": 0
            },
            "text/plain": [
              "HBox(children=(IntProgress(value=0, max=5000), HTML(value='')))"
            ]
          },
          "metadata": {},
          "output_type": "display_data"
        },
        {
          "data": {
            "application/vnd.jupyter.widget-view+json": {
              "model_id": "",
              "version_major": 2,
              "version_minor": 0
            },
            "text/plain": [
              "HBox(children=(IntProgress(value=0, max=5000), HTML(value='')))"
            ]
          },
          "metadata": {},
          "output_type": "display_data"
        },
        {
          "data": {
            "application/vnd.jupyter.widget-view+json": {
              "model_id": "",
              "version_major": 2,
              "version_minor": 0
            },
            "text/plain": [
              "HBox(children=(IntProgress(value=0, max=5000), HTML(value='')))"
            ]
          },
          "metadata": {},
          "output_type": "display_data"
        },
        {
          "data": {
            "application/vnd.jupyter.widget-view+json": {
              "model_id": "",
              "version_major": 2,
              "version_minor": 0
            },
            "text/plain": [
              "HBox(children=(IntProgress(value=0, max=5000), HTML(value='')))"
            ]
          },
          "metadata": {},
          "output_type": "display_data"
        },
        {
          "data": {
            "application/vnd.jupyter.widget-view+json": {
              "model_id": "",
              "version_major": 2,
              "version_minor": 0
            },
            "text/plain": [
              "HBox(children=(IntProgress(value=0, max=5000), HTML(value='')))"
            ]
          },
          "metadata": {},
          "output_type": "display_data"
        },
        {
          "data": {
            "application/vnd.jupyter.widget-view+json": {
              "model_id": "",
              "version_major": 2,
              "version_minor": 0
            },
            "text/plain": [
              "HBox(children=(IntProgress(value=0, max=5000), HTML(value='')))"
            ]
          },
          "metadata": {},
          "output_type": "display_data"
        },
        {
          "data": {
            "application/vnd.jupyter.widget-view+json": {
              "model_id": "",
              "version_major": 2,
              "version_minor": 0
            },
            "text/plain": [
              "HBox(children=(IntProgress(value=0, max=5000), HTML(value='')))"
            ]
          },
          "metadata": {},
          "output_type": "display_data"
        },
        {
          "data": {
            "application/vnd.jupyter.widget-view+json": {
              "model_id": "",
              "version_major": 2,
              "version_minor": 0
            },
            "text/plain": [
              "HBox(children=(IntProgress(value=0, max=5000), HTML(value='')))"
            ]
          },
          "metadata": {},
          "output_type": "display_data"
        },
        {
          "data": {
            "application/vnd.jupyter.widget-view+json": {
              "model_id": "",
              "version_major": 2,
              "version_minor": 0
            },
            "text/plain": [
              "HBox(children=(IntProgress(value=0, max=5000), HTML(value='')))"
            ]
          },
          "metadata": {},
          "output_type": "display_data"
        },
        {
          "data": {
            "application/vnd.jupyter.widget-view+json": {
              "model_id": "",
              "version_major": 2,
              "version_minor": 0
            },
            "text/plain": [
              "HBox(children=(IntProgress(value=0, max=5000), HTML(value='')))"
            ]
          },
          "metadata": {},
          "output_type": "display_data"
        },
        {
          "data": {
            "application/vnd.jupyter.widget-view+json": {
              "model_id": "cee1ae3505984b209929c5cdd5ac65ee",
              "version_major": 2,
              "version_minor": 0
            },
            "text/plain": [
              "HBox(children=(IntProgress(value=0, max=5000), HTML(value='')))"
            ]
          },
          "metadata": {},
          "output_type": "display_data"
        },
        {
          "data": {
            "application/vnd.jupyter.widget-view+json": {
              "model_id": "",
              "version_major": 2,
              "version_minor": 0
            },
            "text/plain": [
              "HBox(children=(IntProgress(value=0, max=5000), HTML(value='')))"
            ]
          },
          "metadata": {},
          "output_type": "display_data"
        },
        {
          "data": {
            "application/vnd.jupyter.widget-view+json": {
              "model_id": "",
              "version_major": 2,
              "version_minor": 0
            },
            "text/plain": [
              "HBox(children=(IntProgress(value=0, max=5000), HTML(value='')))"
            ]
          },
          "metadata": {},
          "output_type": "display_data"
        },
        {
          "data": {
            "application/vnd.jupyter.widget-view+json": {
              "model_id": "",
              "version_major": 2,
              "version_minor": 0
            },
            "text/plain": [
              "HBox(children=(IntProgress(value=0, max=5000), HTML(value='')))"
            ]
          },
          "metadata": {},
          "output_type": "display_data"
        },
        {
          "data": {
            "application/vnd.jupyter.widget-view+json": {
              "model_id": "fa9a7dd92df54d0daa65355306614aa6",
              "version_major": 2,
              "version_minor": 0
            },
            "text/plain": [
              "HBox(children=(IntProgress(value=0, max=5000), HTML(value='')))"
            ]
          },
          "metadata": {},
          "output_type": "display_data"
        },
        {
          "data": {
            "application/vnd.jupyter.widget-view+json": {
              "model_id": "",
              "version_major": 2,
              "version_minor": 0
            },
            "text/plain": [
              "HBox(children=(IntProgress(value=0, max=5000), HTML(value='')))"
            ]
          },
          "metadata": {},
          "output_type": "display_data"
        },
        {
          "data": {
            "application/vnd.jupyter.widget-view+json": {
              "model_id": "",
              "version_major": 2,
              "version_minor": 0
            },
            "text/plain": [
              "HBox(children=(IntProgress(value=0, max=5000), HTML(value='')))"
            ]
          },
          "metadata": {},
          "output_type": "display_data"
        },
        {
          "data": {
            "application/vnd.jupyter.widget-view+json": {
              "model_id": "",
              "version_major": 2,
              "version_minor": 0
            },
            "text/plain": [
              "HBox(children=(IntProgress(value=0, max=5000), HTML(value='')))"
            ]
          },
          "metadata": {},
          "output_type": "display_data"
        },
        {
          "data": {
            "application/vnd.jupyter.widget-view+json": {
              "model_id": "dd5340c4a07c4b3494dc53200b85bc82",
              "version_major": 2,
              "version_minor": 0
            },
            "text/plain": [
              "HBox(children=(IntProgress(value=0, max=5000), HTML(value='')))"
            ]
          },
          "metadata": {},
          "output_type": "display_data"
        },
        {
          "data": {
            "application/vnd.jupyter.widget-view+json": {
              "model_id": "",
              "version_major": 2,
              "version_minor": 0
            },
            "text/plain": [
              "HBox(children=(IntProgress(value=0, max=5000), HTML(value='')))"
            ]
          },
          "metadata": {},
          "output_type": "display_data"
        },
        {
          "data": {
            "application/vnd.jupyter.widget-view+json": {
              "model_id": "",
              "version_major": 2,
              "version_minor": 0
            },
            "text/plain": [
              "HBox(children=(IntProgress(value=0, max=5000), HTML(value='')))"
            ]
          },
          "metadata": {},
          "output_type": "display_data"
        },
        {
          "data": {
            "application/vnd.jupyter.widget-view+json": {
              "model_id": "",
              "version_major": 2,
              "version_minor": 0
            },
            "text/plain": [
              "HBox(children=(IntProgress(value=0, max=5000), HTML(value='')))"
            ]
          },
          "metadata": {},
          "output_type": "display_data"
        },
        {
          "data": {
            "application/vnd.jupyter.widget-view+json": {
              "model_id": "b858735339f140f9afc43a5e88be472e",
              "version_major": 2,
              "version_minor": 0
            },
            "text/plain": [
              "HBox(children=(IntProgress(value=0, max=5000), HTML(value='')))"
            ]
          },
          "metadata": {},
          "output_type": "display_data"
        }
      ],
      "source": [
        "num_runs, num_episodes = 50, 5_000\n",
        "returns_bj = np.empty((num_runs, num_episodes))\n",
        "\n",
        "for i in tqdm.tnrange(num_runs, desc='Runs'):\n",
        "    # YOUR CODE HERE\n",
        "    Q, returns = on_policy_every_visit_mc_control(env_blackjack, num_episodes, eps=0.02, gamma=1)\n",
        "    returns_bj[i] = returns"
      ]
    },
    {
      "cell_type": "code",
      "execution_count": null,
      "metadata": {
        "scrolled": true,
        "id": "0NwvWv_8xrDh",
        "outputId": "d5a3768b-04f2-4834-9e36-6d5b24a0c8ec"
      },
      "outputs": [
        {
          "data": {
            "text/plain": [
              "[<matplotlib.lines.Line2D at 0x19811324518>]"
            ]
          },
          "execution_count": 124,
          "metadata": {},
          "output_type": "execute_result"
        },
        {
          "data": {
            "image/png": "[encoded data removed]",
            "text/plain": [
              "<Figure size 432x288 with 1 Axes>"
            ]
          },
          "metadata": {},
          "output_type": "display_data"
        }
      ],
      "source": [
        "# YOUR CODE HERE# YOUR CODE HERE\n",
        "average_of_returns = np.mean(returns_bj, axis = 0)\n",
        "epi=(np.linspace(1,5001,5000))\n",
        "plt.plot(epi,average_of_returns)\n",
        "plt.plot(epi,rolling_average(average_of_returns, window_size=50))\n"
      ]
    },
    {
      "cell_type": "markdown",
      "metadata": {
        "id": "M6dk_ih4xrDh"
      },
      "source": [
        "d) (2 pts) In both environments, the learning curve can be relatively noisy, even after we have supposedly converged to the semi-optimal policy.  In general (i.e. without referring to the specific FrozenLake and BlackJack environments), why is it possible that the learning curve does not converge to a fixed value even if the policy itself has converged?"
      ]
    },
    {
      "cell_type": "markdown",
      "metadata": {
        "id": "iI0oA0LRxrDh"
      },
      "source": [
        "**YOUR ANSWER HERE**\n",
        "The convergence is also dependent upon the number of episodes and gamma options. The graph becomes uniform or more fluctuated depending upon gamma as we saw earlier. Also Monte Carlo does not bootstrap which can also be a reason to take a longer time to converge because here the policy convergence is not directly linked with learning convergence."
      ]
    },
    {
      "cell_type": "markdown",
      "metadata": {
        "id": "PIGviugHxrDi"
      },
      "source": [
        "e) (3 pts) You may have noticed that, sometimes, the second half of a run is relatively faster than the first half.  In general (i.e. without referring to the specific FrozenLake and BlackJack environments), why does this make sense?  For which types of domains does this make sense?  Can the opposite also make sense (i.e. that the second half of a run runs slower than the first run)?  For which types of domains does this make sense?"
      ]
    },
    {
      "cell_type": "markdown",
      "metadata": {
        "id": "M6r54ALLxrDi"
      },
      "source": [
        "While running these programs I did not notice any patterns in execution speed changes. However, the phenomenon can arise because the system has not learned or explored in the starting so initially it takes random actions and selects optimal actions from the pool of state action reward information it has gathered till now. So over time it makes use of that learning and takes less time.\n",
        "I also noticed that program takes a longer time to run if epsilon values are larger because the emphasis on random action is more which over time may diminish system's performance So if epsilon values are large there is a possibility that the system may perform bad/less efficient in latter part when the need of exploration becomes less. in other words the system does not employ the learning/information it has gathered about optimal actions."
      ]
    },
    {
      "cell_type": "markdown",
      "metadata": {
        "id": "iJ2uKkuAxrDi"
      },
      "source": [
        "### Exercise 4 (10 pts):\n",
        "\n",
        "Run your code up to 500k episodes for the blackjack domain with a step size parameter that enables the value function to converge. Plot the value function as a color plot with a similar layout to that shown in SB Figure 5.2.  If convenient, use the given `plot_surface` function, creates a 3D plot given matrices X and Y representing the 2D function domain, and matrix Z representing the function value at those domain inputs."
      ]
    },
    {
      "cell_type": "code",
      "execution_count": null,
      "metadata": {
        "id": "WRuSkL9WxrDi"
      },
      "outputs": [],
      "source": [
        "def plot_surface(X, Y, Z, title):\n",
        "    \"\"\"Plot a 3d surface.\n",
        "\n",
        "    Args:\n",
        "        X: 2-d numpy.array indicating X positions (first input to the 3-d curve).\n",
        "        Y: 2-d numpy.array indicating Y positions (second input to the 3-d curve).\n",
        "        Z: 2-d numpy.array indicating Z positions (value of the 3-d curve).\n",
        "        title: title of the plot\n",
        "    \"\"\"\n",
        "    fig = plt.figure(figsize=(20, 10))\n",
        "    ax = Axes3D(fig)\n",
        "    surf = ax.plot_surface(\n",
        "        X,\n",
        "        Y,\n",
        "        Z,\n",
        "        rstride=1,\n",
        "        cstride=1,\n",
        "        cmap=matplotlib.cm.coolwarm,\n",
        "        vmin=-1.0,\n",
        "        vmax=1.0,\n",
        "    )\n",
        "    ax.set_xlabel('Player Sum')\n",
        "    ax.set_ylabel('Dealer Showing')\n",
        "    ax.set_zlabel('Value')\n",
        "    ax.set_title(title)\n",
        "    ax.view_init(ax.elev, -120)\n",
        "    fig.colorbar(surf)\n",
        "    plt.show()\n",
        "\n",
        "\n",
        "#YOUR CODE HERE\n",
        "    \n",
        "def on_policy_every_visit_mc_alpha_control(env, num_episodes, eps, alpha):\n",
        "    Q = defaultdict(lambda: np.zeros([env.action_space.n]))\n",
        "    #C = defaultdict(lambda: np.zeros([env.action_space.n], dtype=np.int))\n",
        "\n",
        "    G_queue = deque(maxlen=100)  # stores 100 most recent episode returns for diagnostics\n",
        "    \n",
        "    # Returns array to store episode performances\n",
        "    returns = np.empty(num_episodes)\n",
        "\n",
        "    pbar = tqdm.tnrange(num_episodes, leave=False)  # progress bar\n",
        "    for i in pbar:\n",
        "        G = 0.0\n",
        "        \n",
        "        # YOUR CODE HERE:  sample an episode, and use the transition list to compute returns and update Q and C.\n",
        "\n",
        "        trans=sample_episode(env, Q, eps=eps)\n",
        "        \n",
        "        trans.reverse()\n",
        "        for count1 in trans:\n",
        "            #print(\"COUNT1 VALUE\",count1)\n",
        "            #print(\"COUNT2\",count1[0][1])\n",
        "            G=G+count1[2]\n",
        "            #print(\"GGGG is\",G)\n",
        "            #C[count1[0]][count1[1]]+=1\n",
        "            #Cbar=C[count1[0]][count1[1]]\n",
        "            #print(\"CBAR\",Cbar)\n",
        "            Q[count1[0]][count1[1]]=Q[count1[0]][count1[1]]+(alpha*(G-Q[count1[0]][count1[1]]))#/(C[count1[0]][count1[1]]))\n",
        "        returns[i]=G\n",
        "            #print(\"RETURNS\",returns)\n",
        "        # diagnostics\n",
        "        G_queue.append(G)\n",
        "        pbar.set_description(f'Episodes G={sum(G_queue) / len(G_queue)}')\n",
        "        \n",
        "    return Q, returns"
      ]
    },
    {
      "cell_type": "code",
      "execution_count": null,
      "metadata": {
        "id": "znA3ugAMxrDi",
        "outputId": "b4e5f625-288a-4bc8-dd72-0cc78e5fc21f",
        "colab": {
          "referenced_widgets": [
            "f919f40a08be4fb1a21cc286300f0211",
            "",
            "c6204b4a65fc4550b1feb32afd89eac3",
            "7c1d777ce7734852a08498809c45bacb",
            "12418c74f6594b5a8c4e6679eba6e1b5",
            "0440c6827fba4b9a9d8acc6f1af67cb9"
          ]
        }
      },
      "outputs": [
        {
          "data": {
            "application/vnd.jupyter.widget-view+json": {
              "model_id": "f919f40a08be4fb1a21cc286300f0211",
              "version_major": 2,
              "version_minor": 0
            },
            "text/plain": [
              "HBox(children=(IntProgress(value=0, description='Runs', max=50, style=ProgressStyle(description_width='initial…"
            ]
          },
          "metadata": {},
          "output_type": "display_data"
        },
        {
          "data": {
            "application/vnd.jupyter.widget-view+json": {
              "model_id": "",
              "version_major": 2,
              "version_minor": 0
            },
            "text/plain": [
              "HBox(children=(IntProgress(value=0, max=5000), HTML(value='')))"
            ]
          },
          "metadata": {},
          "output_type": "display_data"
        },
        {
          "data": {
            "application/vnd.jupyter.widget-view+json": {
              "model_id": "",
              "version_major": 2,
              "version_minor": 0
            },
            "text/plain": [
              "HBox(children=(IntProgress(value=0, max=5000), HTML(value='')))"
            ]
          },
          "metadata": {},
          "output_type": "display_data"
        },
        {
          "data": {
            "application/vnd.jupyter.widget-view+json": {
              "model_id": "",
              "version_major": 2,
              "version_minor": 0
            },
            "text/plain": [
              "HBox(children=(IntProgress(value=0, max=5000), HTML(value='')))"
            ]
          },
          "metadata": {},
          "output_type": "display_data"
        },
        {
          "data": {
            "application/vnd.jupyter.widget-view+json": {
              "model_id": "",
              "version_major": 2,
              "version_minor": 0
            },
            "text/plain": [
              "HBox(children=(IntProgress(value=0, max=5000), HTML(value='')))"
            ]
          },
          "metadata": {},
          "output_type": "display_data"
        },
        {
          "data": {
            "application/vnd.jupyter.widget-view+json": {
              "model_id": "",
              "version_major": 2,
              "version_minor": 0
            },
            "text/plain": [
              "HBox(children=(IntProgress(value=0, max=5000), HTML(value='')))"
            ]
          },
          "metadata": {},
          "output_type": "display_data"
        },
        {
          "data": {
            "application/vnd.jupyter.widget-view+json": {
              "model_id": "",
              "version_major": 2,
              "version_minor": 0
            },
            "text/plain": [
              "HBox(children=(IntProgress(value=0, max=5000), HTML(value='')))"
            ]
          },
          "metadata": {},
          "output_type": "display_data"
        },
        {
          "data": {
            "application/vnd.jupyter.widget-view+json": {
              "model_id": "",
              "version_major": 2,
              "version_minor": 0
            },
            "text/plain": [
              "HBox(children=(IntProgress(value=0, max=5000), HTML(value='')))"
            ]
          },
          "metadata": {},
          "output_type": "display_data"
        },
        {
          "data": {
            "application/vnd.jupyter.widget-view+json": {
              "model_id": "",
              "version_major": 2,
              "version_minor": 0
            },
            "text/plain": [
              "HBox(children=(IntProgress(value=0, max=5000), HTML(value='')))"
            ]
          },
          "metadata": {},
          "output_type": "display_data"
        },
        {
          "data": {
            "application/vnd.jupyter.widget-view+json": {
              "model_id": "",
              "version_major": 2,
              "version_minor": 0
            },
            "text/plain": [
              "HBox(children=(IntProgress(value=0, max=5000), HTML(value='')))"
            ]
          },
          "metadata": {},
          "output_type": "display_data"
        },
        {
          "data": {
            "application/vnd.jupyter.widget-view+json": {
              "model_id": "",
              "version_major": 2,
              "version_minor": 0
            },
            "text/plain": [
              "HBox(children=(IntProgress(value=0, max=5000), HTML(value='')))"
            ]
          },
          "metadata": {},
          "output_type": "display_data"
        },
        {
          "data": {
            "application/vnd.jupyter.widget-view+json": {
              "model_id": "",
              "version_major": 2,
              "version_minor": 0
            },
            "text/plain": [
              "HBox(children=(IntProgress(value=0, max=5000), HTML(value='')))"
            ]
          },
          "metadata": {},
          "output_type": "display_data"
        },
        {
          "data": {
            "application/vnd.jupyter.widget-view+json": {
              "model_id": "",
              "version_major": 2,
              "version_minor": 0
            },
            "text/plain": [
              "HBox(children=(IntProgress(value=0, max=5000), HTML(value='')))"
            ]
          },
          "metadata": {},
          "output_type": "display_data"
        },
        {
          "data": {
            "application/vnd.jupyter.widget-view+json": {
              "model_id": "",
              "version_major": 2,
              "version_minor": 0
            },
            "text/plain": [
              "HBox(children=(IntProgress(value=0, max=5000), HTML(value='')))"
            ]
          },
          "metadata": {},
          "output_type": "display_data"
        },
        {
          "data": {
            "application/vnd.jupyter.widget-view+json": {
              "model_id": "",
              "version_major": 2,
              "version_minor": 0
            },
            "text/plain": [
              "HBox(children=(IntProgress(value=0, max=5000), HTML(value='')))"
            ]
          },
          "metadata": {},
          "output_type": "display_data"
        },
        {
          "data": {
            "application/vnd.jupyter.widget-view+json": {
              "model_id": "",
              "version_major": 2,
              "version_minor": 0
            },
            "text/plain": [
              "HBox(children=(IntProgress(value=0, max=5000), HTML(value='')))"
            ]
          },
          "metadata": {},
          "output_type": "display_data"
        },
        {
          "data": {
            "application/vnd.jupyter.widget-view+json": {
              "model_id": "",
              "version_major": 2,
              "version_minor": 0
            },
            "text/plain": [
              "HBox(children=(IntProgress(value=0, max=5000), HTML(value='')))"
            ]
          },
          "metadata": {},
          "output_type": "display_data"
        },
        {
          "data": {
            "application/vnd.jupyter.widget-view+json": {
              "model_id": "",
              "version_major": 2,
              "version_minor": 0
            },
            "text/plain": [
              "HBox(children=(IntProgress(value=0, max=5000), HTML(value='')))"
            ]
          },
          "metadata": {},
          "output_type": "display_data"
        },
        {
          "data": {
            "application/vnd.jupyter.widget-view+json": {
              "model_id": "",
              "version_major": 2,
              "version_minor": 0
            },
            "text/plain": [
              "HBox(children=(IntProgress(value=0, max=5000), HTML(value='')))"
            ]
          },
          "metadata": {},
          "output_type": "display_data"
        },
        {
          "data": {
            "application/vnd.jupyter.widget-view+json": {
              "model_id": "",
              "version_major": 2,
              "version_minor": 0
            },
            "text/plain": [
              "HBox(children=(IntProgress(value=0, max=5000), HTML(value='')))"
            ]
          },
          "metadata": {},
          "output_type": "display_data"
        },
        {
          "data": {
            "application/vnd.jupyter.widget-view+json": {
              "model_id": "",
              "version_major": 2,
              "version_minor": 0
            },
            "text/plain": [
              "HBox(children=(IntProgress(value=0, max=5000), HTML(value='')))"
            ]
          },
          "metadata": {},
          "output_type": "display_data"
        },
        {
          "data": {
            "application/vnd.jupyter.widget-view+json": {
              "model_id": "",
              "version_major": 2,
              "version_minor": 0
            },
            "text/plain": [
              "HBox(children=(IntProgress(value=0, max=5000), HTML(value='')))"
            ]
          },
          "metadata": {},
          "output_type": "display_data"
        },
        {
          "data": {
            "application/vnd.jupyter.widget-view+json": {
              "model_id": "",
              "version_major": 2,
              "version_minor": 0
            },
            "text/plain": [
              "HBox(children=(IntProgress(value=0, max=5000), HTML(value='')))"
            ]
          },
          "metadata": {},
          "output_type": "display_data"
        },
        {
          "data": {
            "application/vnd.jupyter.widget-view+json": {
              "model_id": "",
              "version_major": 2,
              "version_minor": 0
            },
            "text/plain": [
              "HBox(children=(IntProgress(value=0, max=5000), HTML(value='')))"
            ]
          },
          "metadata": {},
          "output_type": "display_data"
        },
        {
          "data": {
            "application/vnd.jupyter.widget-view+json": {
              "model_id": "",
              "version_major": 2,
              "version_minor": 0
            },
            "text/plain": [
              "HBox(children=(IntProgress(value=0, max=5000), HTML(value='')))"
            ]
          },
          "metadata": {},
          "output_type": "display_data"
        },
        {
          "data": {
            "application/vnd.jupyter.widget-view+json": {
              "model_id": "",
              "version_major": 2,
              "version_minor": 0
            },
            "text/plain": [
              "HBox(children=(IntProgress(value=0, max=5000), HTML(value='')))"
            ]
          },
          "metadata": {},
          "output_type": "display_data"
        },
        {
          "data": {
            "application/vnd.jupyter.widget-view+json": {
              "model_id": "c6204b4a65fc4550b1feb32afd89eac3",
              "version_major": 2,
              "version_minor": 0
            },
            "text/plain": [
              "HBox(children=(IntProgress(value=0, max=5000), HTML(value='')))"
            ]
          },
          "metadata": {},
          "output_type": "display_data"
        },
        {
          "data": {
            "application/vnd.jupyter.widget-view+json": {
              "model_id": "",
              "version_major": 2,
              "version_minor": 0
            },
            "text/plain": [
              "HBox(children=(IntProgress(value=0, max=5000), HTML(value='')))"
            ]
          },
          "metadata": {},
          "output_type": "display_data"
        },
        {
          "data": {
            "application/vnd.jupyter.widget-view+json": {
              "model_id": "",
              "version_major": 2,
              "version_minor": 0
            },
            "text/plain": [
              "HBox(children=(IntProgress(value=0, max=5000), HTML(value='')))"
            ]
          },
          "metadata": {},
          "output_type": "display_data"
        },
        {
          "data": {
            "application/vnd.jupyter.widget-view+json": {
              "model_id": "",
              "version_major": 2,
              "version_minor": 0
            },
            "text/plain": [
              "HBox(children=(IntProgress(value=0, max=5000), HTML(value='')))"
            ]
          },
          "metadata": {},
          "output_type": "display_data"
        },
        {
          "data": {
            "application/vnd.jupyter.widget-view+json": {
              "model_id": "7c1d777ce7734852a08498809c45bacb",
              "version_major": 2,
              "version_minor": 0
            },
            "text/plain": [
              "HBox(children=(IntProgress(value=0, max=5000), HTML(value='')))"
            ]
          },
          "metadata": {},
          "output_type": "display_data"
        },
        {
          "data": {
            "application/vnd.jupyter.widget-view+json": {
              "model_id": "",
              "version_major": 2,
              "version_minor": 0
            },
            "text/plain": [
              "HBox(children=(IntProgress(value=0, max=5000), HTML(value='')))"
            ]
          },
          "metadata": {},
          "output_type": "display_data"
        },
        {
          "data": {
            "application/vnd.jupyter.widget-view+json": {
              "model_id": "",
              "version_major": 2,
              "version_minor": 0
            },
            "text/plain": [
              "HBox(children=(IntProgress(value=0, max=5000), HTML(value='')))"
            ]
          },
          "metadata": {},
          "output_type": "display_data"
        },
        {
          "data": {
            "application/vnd.jupyter.widget-view+json": {
              "model_id": "",
              "version_major": 2,
              "version_minor": 0
            },
            "text/plain": [
              "HBox(children=(IntProgress(value=0, max=5000), HTML(value='')))"
            ]
          },
          "metadata": {},
          "output_type": "display_data"
        },
        {
          "data": {
            "application/vnd.jupyter.widget-view+json": {
              "model_id": "12418c74f6594b5a8c4e6679eba6e1b5",
              "version_major": 2,
              "version_minor": 0
            },
            "text/plain": [
              "HBox(children=(IntProgress(value=0, max=5000), HTML(value='')))"
            ]
          },
          "metadata": {},
          "output_type": "display_data"
        },
        {
          "data": {
            "application/vnd.jupyter.widget-view+json": {
              "model_id": "",
              "version_major": 2,
              "version_minor": 0
            },
            "text/plain": [
              "HBox(children=(IntProgress(value=0, max=5000), HTML(value='')))"
            ]
          },
          "metadata": {},
          "output_type": "display_data"
        },
        {
          "data": {
            "application/vnd.jupyter.widget-view+json": {
              "model_id": "",
              "version_major": 2,
              "version_minor": 0
            },
            "text/plain": [
              "HBox(children=(IntProgress(value=0, max=5000), HTML(value='')))"
            ]
          },
          "metadata": {},
          "output_type": "display_data"
        },
        {
          "data": {
            "application/vnd.jupyter.widget-view+json": {
              "model_id": "",
              "version_major": 2,
              "version_minor": 0
            },
            "text/plain": [
              "HBox(children=(IntProgress(value=0, max=5000), HTML(value='')))"
            ]
          },
          "metadata": {},
          "output_type": "display_data"
        },
        {
          "data": {
            "application/vnd.jupyter.widget-view+json": {
              "model_id": "0440c6827fba4b9a9d8acc6f1af67cb9",
              "version_major": 2,
              "version_minor": 0
            },
            "text/plain": [
              "HBox(children=(IntProgress(value=0, max=5000), HTML(value='')))"
            ]
          },
          "metadata": {},
          "output_type": "display_data"
        },
        {
          "name": "stdout",
          "output_type": "stream",
          "text": [
            "\r"
          ]
        }
      ],
      "source": [
        "num_episodes = 500_000\n",
        "# YOUR CODE HERE\n",
        "num_runs=50\n",
        "returns_bj = np.empty((num_runs, num_episodes))\n",
        "\n",
        "for i in tqdm.tnrange(num_runs, desc='Runs'):\n",
        "    # YOUR CODE HERE\n",
        "    Q, returns = on_policy_every_visit_mc_alpha_control(env_blackjack, num_episodes, eps=0.4, alpha=1)\n",
        "    returns_bj[i] = returns\n",
        "Q, returns = on_policy_every_visit_mc_alpha_control(env_blackjack, 500000, eps=0.04, alpha=0.05)    "
      ]
    },
    {
      "cell_type": "code",
      "execution_count": null,
      "metadata": {
        "id": "U0h3bgOvxrDj"
      },
      "outputs": [],
      "source": [
        "def value_function(Qpi,eps):\n",
        "    #Q = defaultdict(lambda: np.zeros([env.action_space.n]))\n",
        "    V = defaultdict(lambda: 0)\n",
        "    #V2= defaultdict(lambda: 0)\n",
        "\n",
        "    print(\"Vstarting\",V)\n",
        "    \n",
        "    for a in Qpi:\n",
        "        maxV=np.amax(Q[a])\n",
        "        Vtotal= np.sum(Q[a]*eps/2) + (1-eps)*maxV\n",
        "        if a[2]:\n",
        "            V[a[0],a[1]]=Vtotal\n",
        "        #else:\n",
        "         #   V2[a[0],a[1]]\n",
        "    print(\"V ending\", V)\n",
        "    return V\n",
        "    \n",
        "\n",
        "    \n",
        "\n"
      ]
    },
    {
      "cell_type": "code",
      "execution_count": null,
      "metadata": {
        "scrolled": true,
        "id": "g5cxXnaoxrDj",
        "outputId": "7401219c-1c3c-404e-ee3d-923fd272e2bd"
      },
      "outputs": [
        {
          "name": "stdout",
          "output_type": "stream",
          "text": [
            "Vstarting defaultdict(<function value_function.<locals>.<lambda> at 0x000001980A8DD1E0>, {})\n",
            "V ending defaultdict(<function value_function.<locals>.<lambda> at 0x000001980A8DD1E0>, {(14, 5): 0.006463624999999994, (19, 5): 0.052571109062499996, (21, 10): 0.8048880310268126, (16, 3): -0.097545125, (13, 4): 0.12759468125, (19, 10): -0.01679760602952631, (20, 10): 0.3198199695481788, (17, 2): -0.043767625000000004, (16, 4): -0.095288875, (20, 4): 0.1787883346875, (21, 4): 0.6159191678518706, (18, 10): -0.10853549085766104, (20, 7): 0.0417225, (17, 7): 0.000500000000000002, (21, 9): 0.5477660929109459, (16, 6): -0.0975043996875, (21, 8): -0.0009691631174737761, (17, 8): -0.211708831078125, (21, 5): 0.5842998256372278, (15, 5): 0.0012693812500000022, (14, 6): 0.06428022733671873, (16, 1): -0.0500475, (18, 7): 0.08747906954687501, (18, 9): 0.08236469718749999, (17, 4): 0.038561375, (18, 4): -0.005708625000000004, (21, 7): 0.7286139557486552, (21, 2): 0.5172157635881056, (21, 1): 0.30911008130420176, (14, 8): -0.0984025, (17, 1): 0.04895, (14, 10): -0.29034407356860265, (21, 6): 0.4864612960396285, (12, 10): -0.09987241895390625, (17, 3): -0.0034975000000000023, (12, 8): -0.0001901249999999999, (20, 8): 0.0780649471875, (17, 10): -0.24401216622780725, (15, 4): -0.08443719718750001, (21, 3): 0.6286337960396285, (13, 10): 0.0436294596875, (15, 1): -0.14262499999999997, (16, 5): 0.0036611250000000034, (17, 9): -0.001711124999999999, (19, 6): 0.25771418389062506, (13, 7): 0.003777500000000004, (19, 8): 0.07964299157769533, (18, 2): 0.1837794153125, (15, 10): -0.16691661989337694, (18, 6): 0.22069468125000002, (19, 7): 0.2403165731886328, (20, 6): 0.169219183890625, (16, 10): -0.10973368555157324, (14, 9): -0.05980031874999999, (19, 9): 0.16528822877378904, (15, 8): -0.038102181250000006, (18, 1): -0.08464083468749999, (20, 9): 0.08868387500000001, (17, 5): -0.0034975000000000023, (16, 7): -0.09835963125, (20, 3): 0.179833875, (14, 2): -0.043722500000000004, (12, 3): 0.048, (20, 5): 0.0030353904445312367, (15, 9): -0.053277500000000005, (18, 3): 0.0028014937500000035, (16, 8): -0.05095, (15, 7): 0.050327500000000004, (15, 6): -0.05117693125, (14, 7): 0.181783875, (19, 3): 0.25040576693863287, (19, 4): 0.19615468176513867, (16, 2): -0.04772, (14, 3): -0.0952932746875, (14, 4): 0.041772500000000004, (13, 2): -0.043722500000000004, (13, 9): 0.001450000000000002, (17, 6): -0.020935052812499997, (18, 5): -0.0034975000000000023, (19, 2): -5.000000000000004e-05, (15, 2): -0.05, (18, 8): 0.03426283732812501, (19, 1): -0.090633875, (20, 2): 0.096761125, (15, 3): 0.0955, (20, 1): -0.00040683781249999996, (13, 3): 0.04895, (13, 6): -0.00040683781249999996, (12, 4): -0.05, (12, 5): 0.048, (12, 6): -5.000000000000004e-05, (13, 5): 0.08868387500000001, (16, 9): 0.181783875, (13, 1): -0.05, (13, 8): -0.0975, (12, 1): -0.05, (14, 1): -0.05})\n",
            "XXXX,YYYY [[12 13 14 15 16 17 18 19 20 21]\n",
            " [12 13 14 15 16 17 18 19 20 21]\n",
            " [12 13 14 15 16 17 18 19 20 21]\n",
            " [12 13 14 15 16 17 18 19 20 21]\n",
            " [12 13 14 15 16 17 18 19 20 21]\n",
            " [12 13 14 15 16 17 18 19 20 21]\n",
            " [12 13 14 15 16 17 18 19 20 21]\n",
            " [12 13 14 15 16 17 18 19 20 21]\n",
            " [12 13 14 15 16 17 18 19 20 21]\n",
            " [12 13 14 15 16 17 18 19 20 21]] [[ 1  1  1  1  1  1  1  1  1  1]\n",
            " [ 2  2  2  2  2  2  2  2  2  2]\n",
            " [ 3  3  3  3  3  3  3  3  3  3]\n",
            " [ 4  4  4  4  4  4  4  4  4  4]\n",
            " [ 5  5  5  5  5  5  5  5  5  5]\n",
            " [ 6  6  6  6  6  6  6  6  6  6]\n",
            " [ 7  7  7  7  7  7  7  7  7  7]\n",
            " [ 8  8  8  8  8  8  8  8  8  8]\n",
            " [ 9  9  9  9  9  9  9  9  9  9]\n",
            " [10 10 10 10 10 10 10 10 10 10]]\n",
            "[[-0.05       -0.05       -0.05       -0.142625   -0.0500475   0.04895\n",
            "  -0.08464083 -0.09063388 -0.00040684  0.30911008]\n",
            " [-0.05       -0.05       -0.05       -0.142625   -0.0500475   0.04895\n",
            "  -0.08464083 -0.09063388 -0.00040684  0.30911008]\n",
            " [-0.05       -0.05       -0.05       -0.142625   -0.0500475   0.04895\n",
            "  -0.08464083 -0.09063388 -0.00040684  0.30911008]\n",
            " [-0.05       -0.05       -0.05       -0.142625   -0.0500475   0.04895\n",
            "  -0.08464083 -0.09063388 -0.00040684  0.30911008]\n",
            " [-0.05       -0.05       -0.05       -0.142625   -0.0500475   0.04895\n",
            "  -0.08464083 -0.09063388 -0.00040684  0.30911008]\n",
            " [-0.05       -0.05       -0.05       -0.142625   -0.0500475   0.04895\n",
            "  -0.08464083 -0.09063388 -0.00040684  0.30911008]\n",
            " [-0.05       -0.05       -0.05       -0.142625   -0.0500475   0.04895\n",
            "  -0.08464083 -0.09063388 -0.00040684  0.30911008]\n",
            " [-0.05       -0.05       -0.05       -0.142625   -0.0500475   0.04895\n",
            "  -0.08464083 -0.09063388 -0.00040684  0.30911008]\n",
            " [-0.05       -0.05       -0.05       -0.142625   -0.0500475   0.04895\n",
            "  -0.08464083 -0.09063388 -0.00040684  0.30911008]\n",
            " [-0.05       -0.05       -0.05       -0.142625   -0.0500475   0.04895\n",
            "  -0.08464083 -0.09063388 -0.00040684  0.30911008]]\n"
          ]
        },
        {
          "data": {
            "image/png": "[encoded data removed]",
            "text/plain": [
              "<Figure size 1440x720 with 2 Axes>"
            ]
          },
          "metadata": {},
          "output_type": "display_data"
        }
      ],
      "source": [
        "#player = np.linspace(12, 23,1)\n",
        "#dealer = np.linspace(1, 12,1)\n",
        "player = np.arange(12, 22)\n",
        "dealer = np.arange(1, 11)\n",
        "Vz=value_function(Q,0.04)\n",
        "#z=np.array(z)\n",
        "x, y = np.meshgrid(player, dealer)\n",
        "print(\"XXXX,YYYY\", x , y)\n",
        "fn = []\n",
        "for why in y[0]:\n",
        "    t = []\n",
        "    for axe in x[0]:\n",
        "        t.append( Vz[(axe, why)]) \n",
        "        \n",
        "    fn.append(t)\n",
        "\n",
        "fn = np.array(fn)\n",
        "print(fn)\n",
        "plot_surface(x, y, fn, \"title\")\n"
      ]
    },
    {
      "cell_type": "markdown",
      "metadata": {
        "id": "_h-LOS8_xrDj"
      },
      "source": [
        "### Exercise 5 (10 pts):\n",
        "\n",
        "Implement the below function to train an off-policy every-visit MC agent which uses weighted importance sampling. As before, the behavior policy should be the epsilon greedy action selection."
      ]
    },
    {
      "cell_type": "code",
      "execution_count": null,
      "metadata": {
        "id": "4t7um74SxrDj",
        "outputId": "bb94fcd7-7dfc-45fe-cb85-ad158b5f3df0"
      },
      "outputs": [
        {
          "name": "stdout",
          "output_type": "stream",
          "text": [
            "defaultdict(<function <lambda> at 0x000001980AAD41E0>, {})\n"
          ]
        }
      ],
      "source": [
        "V = defaultdict(lambda: np.zeros())\n",
        "print(V)"
      ]
    },
    {
      "cell_type": "code",
      "execution_count": null,
      "metadata": {
        "id": "p9gY3ylHxrDk"
      },
      "outputs": [],
      "source": [
        "def off_policy_every_visit_weighted_control(env, num_episodes, *, eps, gamma):\n",
        "    '''\n",
        "    Trains an off-policy every-visit MC agent with weighted importance sampling.\n",
        "    \n",
        "    Args:\n",
        "        env: The environment to train the agent on.\n",
        "        num_episodes: The number of episodes for which to train the agent.\n",
        "        eps: The probability to select a random action. Float between 0 and 1.      \n",
        "        gamma: The discount factor.\n",
        "        \n",
        "    Returns:\n",
        "        Q is a dictionary mapping state -> action values array.\n",
        "        returns is a list containing the rewards obtained for each episode during training.\n",
        "    '''\n",
        "    \n",
        "    # Create Q function dict with default values, and C (the counts) dict with default values\n",
        "    Q = defaultdict(lambda: np.zeros([env.action_space.n]))\n",
        "    C = defaultdict(lambda: np.zeros([env.action_space.n], dtype=np.int))\n",
        "    policy = defaultdict(int)\n",
        "    \n",
        "    G_queue = deque(maxlen=100)  # stores 100 most recent episode returns for diagnostics\n",
        "    \n",
        "    # Returns array to store episode performances\n",
        "    returns = np.empty(num_episodes)\n",
        "\n",
        "    pbar = tqdm.tnrange(num_episodes, leave=False)\n",
        "    for i in pbar:\n",
        "        G = 0.0\n",
        "        W=1\n",
        "        \n",
        "        # YOUR CODE HERE:  sample an episode using the epsilon-greedy policy,\n",
        "        # and use the transition list to compute returns and update Q and C.\n",
        "        trans=sample_episode(env, Q, eps=eps)\n",
        "        \n",
        "        trans.reverse()\n",
        "        for count1 in trans:\n",
        "            #print(\"COUNT1 VALUE\",count1)\n",
        "            #print(\"COUNT2\",count1[0][1])\n",
        "            G=(G*gamma)+count1[2]\n",
        "            #print(\"GGGG is\",G)\n",
        "            C[count1[0]][count1[1]]=C[count1[0]][count1[1]]+W\n",
        "            #Cbar=C[count1[0]][count1[1]]\n",
        "            #print(\"CBAR\",Cbar)\n",
        "            Q[count1[0]][count1[1]]=Q[count1[0]][count1[1]]+((G-Q[count1[0]][count1[1]])*(W/C[count1[0]][count1[1]]))\n",
        "            \n",
        "            #pi(St)<-argmax(action where Q(St,a) value is max)\n",
        "            \n",
        "            #if action selected is not equal to policy action then break\n",
        "            \n",
        "            #W=W/b(At|St):::b is policy/probability as policy is based upon probability\n",
        "                        \n",
        "            #print(\"PROBE\",probE)\n",
        "            Qmax2= np.max(Q[count1[0]])\n",
        "                #print(\"QMAX\",Qmax)\n",
        "            Qmaxpos2=np.where(Q[count1[0]]==Qmax2)\n",
        "        #print(\"POS\", Qmaxpos[0])\n",
        "        #print(\"NEWPOS\", Qmaxpos)\n",
        "        #pos=pos.reshape(1,len(Qmaxpos[0]))\n",
        "            action2=np.random.choice(Qmaxpos2[0])\n",
        "            policy[count1[0]]= action2 #pi(state)=best action\n",
        "            if count1[1] != policy[count1[0]]:\n",
        "                break\n",
        "            #else if count1[1] == policy[count1[0]]:\n",
        "            if count1[1] == policy[count1[0]]:\n",
        "                probE2= 1-eps+(eps/2)\n",
        "            else:\n",
        "                probE2=eps/2.0\n",
        "            #    action=np.random.choice(len(Q_array))\n",
        "            W=W/probE2\n",
        "            \n",
        "        returns[i]=G\n",
        "            #print(\"RETURNS\",returns)\n",
        "        # diagnostics\n",
        "        G_queue.append(G)\n",
        "        pbar.set_description(f'Episodes G={sum(G_queue) / len(G_queue)}')\n",
        "        \n",
        "    return Q, returns"
      ]
    },
    {
      "cell_type": "markdown",
      "metadata": {
        "id": "SrNjSu-MxrDk"
      },
      "source": [
        "### Exercise 6 (20 pts):\n",
        "\n",
        "a) (5pts) Compute and plot the learning curve weighted importance sampling in the blackjack environment, averaging 50 runs of 5k episodes each.  Again, start with $\\epsilon = 0.5$, and use the resulting plots to find a better $\\epsilon$ with better convergence.  Compare the results to those shown in exercise (3c)."
      ]
    },
    {
      "cell_type": "code",
      "execution_count": null,
      "metadata": {
        "id": "kCcWE7PrxrDk",
        "outputId": "53bcdb33-4aed-42ba-fbae-4cdf0256a8a5",
        "colab": {
          "referenced_widgets": [
            "cf27a525b8624d3583be658cbf2edaa9",
            "",
            "90dd682e7a024508943f39960e6b07ff",
            "63c4c5ba2bae471bbd66b5f9cc667043",
            "2dd188582a1847a7a90aa95022d590c7",
            "621b7e4b3e1143d2845bcbd28e7ab2af",
            "23224203c8e74d62ad3cc226ecc1cef7",
            "c78a4e50e84e4211906db2fb6bfeeee2",
            "672e40a0c7014960816bd33869795ea3",
            "8df6d3a316b942c9820850d9a6b52abb"
          ]
        }
      },
      "outputs": [
        {
          "data": {
            "application/vnd.jupyter.widget-view+json": {
              "model_id": "cf27a525b8624d3583be658cbf2edaa9",
              "version_major": 2,
              "version_minor": 0
            },
            "text/plain": [
              "HBox(children=(IntProgress(value=0, description='Runs (IS)', max=50, style=ProgressStyle(description_width='in…"
            ]
          },
          "metadata": {},
          "output_type": "display_data"
        },
        {
          "data": {
            "application/vnd.jupyter.widget-view+json": {
              "model_id": "",
              "version_major": 2,
              "version_minor": 0
            },
            "text/plain": [
              "HBox(children=(IntProgress(value=0, max=5000), HTML(value='')))"
            ]
          },
          "metadata": {},
          "output_type": "display_data"
        },
        {
          "data": {
            "application/vnd.jupyter.widget-view+json": {
              "model_id": "",
              "version_major": 2,
              "version_minor": 0
            },
            "text/plain": [
              "HBox(children=(IntProgress(value=0, max=5000), HTML(value='')))"
            ]
          },
          "metadata": {},
          "output_type": "display_data"
        },
        {
          "data": {
            "application/vnd.jupyter.widget-view+json": {
              "model_id": "",
              "version_major": 2,
              "version_minor": 0
            },
            "text/plain": [
              "HBox(children=(IntProgress(value=0, max=5000), HTML(value='')))"
            ]
          },
          "metadata": {},
          "output_type": "display_data"
        },
        {
          "data": {
            "application/vnd.jupyter.widget-view+json": {
              "model_id": "",
              "version_major": 2,
              "version_minor": 0
            },
            "text/plain": [
              "HBox(children=(IntProgress(value=0, max=5000), HTML(value='')))"
            ]
          },
          "metadata": {},
          "output_type": "display_data"
        },
        {
          "data": {
            "application/vnd.jupyter.widget-view+json": {
              "model_id": "",
              "version_major": 2,
              "version_minor": 0
            },
            "text/plain": [
              "HBox(children=(IntProgress(value=0, max=5000), HTML(value='')))"
            ]
          },
          "metadata": {},
          "output_type": "display_data"
        },
        {
          "data": {
            "application/vnd.jupyter.widget-view+json": {
              "model_id": "",
              "version_major": 2,
              "version_minor": 0
            },
            "text/plain": [
              "HBox(children=(IntProgress(value=0, max=5000), HTML(value='')))"
            ]
          },
          "metadata": {},
          "output_type": "display_data"
        },
        {
          "data": {
            "application/vnd.jupyter.widget-view+json": {
              "model_id": "",
              "version_major": 2,
              "version_minor": 0
            },
            "text/plain": [
              "HBox(children=(IntProgress(value=0, max=5000), HTML(value='')))"
            ]
          },
          "metadata": {},
          "output_type": "display_data"
        },
        {
          "data": {
            "application/vnd.jupyter.widget-view+json": {
              "model_id": "",
              "version_major": 2,
              "version_minor": 0
            },
            "text/plain": [
              "HBox(children=(IntProgress(value=0, max=5000), HTML(value='')))"
            ]
          },
          "metadata": {},
          "output_type": "display_data"
        },
        {
          "data": {
            "application/vnd.jupyter.widget-view+json": {
              "model_id": "",
              "version_major": 2,
              "version_minor": 0
            },
            "text/plain": [
              "HBox(children=(IntProgress(value=0, max=5000), HTML(value='')))"
            ]
          },
          "metadata": {},
          "output_type": "display_data"
        },
        {
          "data": {
            "application/vnd.jupyter.widget-view+json": {
              "model_id": "",
              "version_major": 2,
              "version_minor": 0
            },
            "text/plain": [
              "HBox(children=(IntProgress(value=0, max=5000), HTML(value='')))"
            ]
          },
          "metadata": {},
          "output_type": "display_data"
        },
        {
          "data": {
            "application/vnd.jupyter.widget-view+json": {
              "model_id": "",
              "version_major": 2,
              "version_minor": 0
            },
            "text/plain": [
              "HBox(children=(IntProgress(value=0, max=5000), HTML(value='')))"
            ]
          },
          "metadata": {},
          "output_type": "display_data"
        },
        {
          "data": {
            "application/vnd.jupyter.widget-view+json": {
              "model_id": "",
              "version_major": 2,
              "version_minor": 0
            },
            "text/plain": [
              "HBox(children=(IntProgress(value=0, max=5000), HTML(value='')))"
            ]
          },
          "metadata": {},
          "output_type": "display_data"
        },
        {
          "data": {
            "application/vnd.jupyter.widget-view+json": {
              "model_id": "",
              "version_major": 2,
              "version_minor": 0
            },
            "text/plain": [
              "HBox(children=(IntProgress(value=0, max=5000), HTML(value='')))"
            ]
          },
          "metadata": {},
          "output_type": "display_data"
        },
        {
          "data": {
            "application/vnd.jupyter.widget-view+json": {
              "model_id": "",
              "version_major": 2,
              "version_minor": 0
            },
            "text/plain": [
              "HBox(children=(IntProgress(value=0, max=5000), HTML(value='')))"
            ]
          },
          "metadata": {},
          "output_type": "display_data"
        },
        {
          "data": {
            "application/vnd.jupyter.widget-view+json": {
              "model_id": "90dd682e7a024508943f39960e6b07ff",
              "version_major": 2,
              "version_minor": 0
            },
            "text/plain": [
              "HBox(children=(IntProgress(value=0, max=5000), HTML(value='')))"
            ]
          },
          "metadata": {},
          "output_type": "display_data"
        },
        {
          "data": {
            "application/vnd.jupyter.widget-view+json": {
              "model_id": "",
              "version_major": 2,
              "version_minor": 0
            },
            "text/plain": [
              "HBox(children=(IntProgress(value=0, max=5000), HTML(value='')))"
            ]
          },
          "metadata": {},
          "output_type": "display_data"
        },
        {
          "data": {
            "application/vnd.jupyter.widget-view+json": {
              "model_id": "63c4c5ba2bae471bbd66b5f9cc667043",
              "version_major": 2,
              "version_minor": 0
            },
            "text/plain": [
              "HBox(children=(IntProgress(value=0, max=5000), HTML(value='')))"
            ]
          },
          "metadata": {},
          "output_type": "display_data"
        },
        {
          "data": {
            "application/vnd.jupyter.widget-view+json": {
              "model_id": "",
              "version_major": 2,
              "version_minor": 0
            },
            "text/plain": [
              "HBox(children=(IntProgress(value=0, max=5000), HTML(value='')))"
            ]
          },
          "metadata": {},
          "output_type": "display_data"
        },
        {
          "data": {
            "application/vnd.jupyter.widget-view+json": {
              "model_id": "",
              "version_major": 2,
              "version_minor": 0
            },
            "text/plain": [
              "HBox(children=(IntProgress(value=0, max=5000), HTML(value='')))"
            ]
          },
          "metadata": {},
          "output_type": "display_data"
        },
        {
          "data": {
            "application/vnd.jupyter.widget-view+json": {
              "model_id": "2dd188582a1847a7a90aa95022d590c7",
              "version_major": 2,
              "version_minor": 0
            },
            "text/plain": [
              "HBox(children=(IntProgress(value=0, max=5000), HTML(value='')))"
            ]
          },
          "metadata": {},
          "output_type": "display_data"
        },
        {
          "data": {
            "application/vnd.jupyter.widget-view+json": {
              "model_id": "",
              "version_major": 2,
              "version_minor": 0
            },
            "text/plain": [
              "HBox(children=(IntProgress(value=0, max=5000), HTML(value='')))"
            ]
          },
          "metadata": {},
          "output_type": "display_data"
        },
        {
          "data": {
            "application/vnd.jupyter.widget-view+json": {
              "model_id": "",
              "version_major": 2,
              "version_minor": 0
            },
            "text/plain": [
              "HBox(children=(IntProgress(value=0, max=5000), HTML(value='')))"
            ]
          },
          "metadata": {},
          "output_type": "display_data"
        },
        {
          "data": {
            "application/vnd.jupyter.widget-view+json": {
              "model_id": "621b7e4b3e1143d2845bcbd28e7ab2af",
              "version_major": 2,
              "version_minor": 0
            },
            "text/plain": [
              "HBox(children=(IntProgress(value=0, max=5000), HTML(value='')))"
            ]
          },
          "metadata": {},
          "output_type": "display_data"
        },
        {
          "data": {
            "application/vnd.jupyter.widget-view+json": {
              "model_id": "",
              "version_major": 2,
              "version_minor": 0
            },
            "text/plain": [
              "HBox(children=(IntProgress(value=0, max=5000), HTML(value='')))"
            ]
          },
          "metadata": {},
          "output_type": "display_data"
        },
        {
          "data": {
            "application/vnd.jupyter.widget-view+json": {
              "model_id": "23224203c8e74d62ad3cc226ecc1cef7",
              "version_major": 2,
              "version_minor": 0
            },
            "text/plain": [
              "HBox(children=(IntProgress(value=0, max=5000), HTML(value='')))"
            ]
          },
          "metadata": {},
          "output_type": "display_data"
        },
        {
          "data": {
            "application/vnd.jupyter.widget-view+json": {
              "model_id": "",
              "version_major": 2,
              "version_minor": 0
            },
            "text/plain": [
              "HBox(children=(IntProgress(value=0, max=5000), HTML(value='')))"
            ]
          },
          "metadata": {},
          "output_type": "display_data"
        },
        {
          "data": {
            "application/vnd.jupyter.widget-view+json": {
              "model_id": "",
              "version_major": 2,
              "version_minor": 0
            },
            "text/plain": [
              "HBox(children=(IntProgress(value=0, max=5000), HTML(value='')))"
            ]
          },
          "metadata": {},
          "output_type": "display_data"
        },
        {
          "data": {
            "application/vnd.jupyter.widget-view+json": {
              "model_id": "c78a4e50e84e4211906db2fb6bfeeee2",
              "version_major": 2,
              "version_minor": 0
            },
            "text/plain": [
              "HBox(children=(IntProgress(value=0, max=5000), HTML(value='')))"
            ]
          },
          "metadata": {},
          "output_type": "display_data"
        },
        {
          "data": {
            "application/vnd.jupyter.widget-view+json": {
              "model_id": "",
              "version_major": 2,
              "version_minor": 0
            },
            "text/plain": [
              "HBox(children=(IntProgress(value=0, max=5000), HTML(value='')))"
            ]
          },
          "metadata": {},
          "output_type": "display_data"
        },
        {
          "data": {
            "application/vnd.jupyter.widget-view+json": {
              "model_id": "",
              "version_major": 2,
              "version_minor": 0
            },
            "text/plain": [
              "HBox(children=(IntProgress(value=0, max=5000), HTML(value='')))"
            ]
          },
          "metadata": {},
          "output_type": "display_data"
        },
        {
          "data": {
            "application/vnd.jupyter.widget-view+json": {
              "model_id": "672e40a0c7014960816bd33869795ea3",
              "version_major": 2,
              "version_minor": 0
            },
            "text/plain": [
              "HBox(children=(IntProgress(value=0, max=5000), HTML(value='')))"
            ]
          },
          "metadata": {},
          "output_type": "display_data"
        },
        {
          "data": {
            "application/vnd.jupyter.widget-view+json": {
              "model_id": "",
              "version_major": 2,
              "version_minor": 0
            },
            "text/plain": [
              "HBox(children=(IntProgress(value=0, max=5000), HTML(value='')))"
            ]
          },
          "metadata": {},
          "output_type": "display_data"
        },
        {
          "data": {
            "application/vnd.jupyter.widget-view+json": {
              "model_id": "8df6d3a316b942c9820850d9a6b52abb",
              "version_major": 2,
              "version_minor": 0
            },
            "text/plain": [
              "HBox(children=(IntProgress(value=0, max=5000), HTML(value='')))"
            ]
          },
          "metadata": {},
          "output_type": "display_data"
        },
        {
          "data": {
            "application/vnd.jupyter.widget-view+json": {
              "model_id": "",
              "version_major": 2,
              "version_minor": 0
            },
            "text/plain": [
              "HBox(children=(IntProgress(value=0, max=5000), HTML(value='')))"
            ]
          },
          "metadata": {},
          "output_type": "display_data"
        },
        {
          "name": "stdout",
          "output_type": "stream",
          "text": [
            "\n"
          ]
        },
        {
          "data": {
            "text/plain": [
              "[<matplotlib.lines.Line2D at 0x19810be7b00>]"
            ]
          },
          "execution_count": 128,
          "metadata": {},
          "output_type": "execute_result"
        },
        {
          "data": {
            "image/png": "[encoded data removed]",
            "text/plain": [
              "<Figure size 432x288 with 1 Axes>"
            ]
          },
          "metadata": {},
          "output_type": "display_data"
        }
      ],
      "source": [
        "num_runs, num_episodes = 50, 5_000\n",
        "\n",
        "#returns_mc = np.empty((num_runs, num_episodes))\n",
        "#for i in tqdm.tnrange(num_runs, desc='Runs (MC)'):\n",
        "    # YOUR CODE HERE\n",
        "    \n",
        "returns_is = np.empty((num_runs, num_episodes))\n",
        "for i in tqdm.tnrange(num_runs, desc='Runs (IS)'):\n",
        "    # YOUR CODE HERE\n",
        "    Q, returns=off_policy_every_visit_weighted_control(env_blackjack,num_episodes, eps=0.03,gamma=0.12)\n",
        "    returns_is[i]=returns\n",
        "    \n",
        "avg_return=returns_is.sum(axis=0)/float(num_runs)\n",
        "plt.plot(np.arange(1,5001),avg_return)\n",
        "plt.plot(np.arange(1,5001), rolling_average(avg_return, window_size=100))"
      ]
    },
    {
      "cell_type": "code",
      "execution_count": null,
      "metadata": {
        "id": "l0ydRIhpxrDk",
        "outputId": "7e6f601e-9dae-492c-90ca-f153d582cea6"
      },
      "outputs": [
        {
          "data": {
            "text/plain": [
              "[<matplotlib.lines.Line2D at 0x1980f3ac710>]"
            ]
          },
          "execution_count": 129,
          "metadata": {},
          "output_type": "execute_result"
        },
        {
          "data": {
            "image/png": "[encoded data removed]",
            "text/plain": [
              "<Figure size 432x288 with 1 Axes>"
            ]
          },
          "metadata": {},
          "output_type": "display_data"
        }
      ],
      "source": [
        "# YOUR CODE HERE\n",
        "avg_return=returns_is.sum(axis=0)/float(num_runs)\n",
        "plt.plot(np.arange(1,5001),avg_return)\n",
        "plt.plot(np.arange(1,5001), rolling_average(avg_return, window_size=100))"
      ]
    },
    {
      "cell_type": "code",
      "execution_count": null,
      "metadata": {
        "id": "tfj-84PxxrDk"
      },
      "outputs": [],
      "source": [
        "# @ eps0.5 gamma 1 bad then earlier\n",
        "#@ eps=0.03,gamma=0.12 much better"
      ]
    },
    {
      "cell_type": "markdown",
      "metadata": {
        "id": "WKVArJQaxrDl"
      },
      "source": [
        "b) (5 pts) Now implement Monte Carlo Evaluation for the greddy policy of a Q function."
      ]
    },
    {
      "cell_type": "code",
      "execution_count": null,
      "metadata": {
        "id": "XryLFGQkxrDl"
      },
      "outputs": [],
      "source": [
        "def on_policy_mc_evaluation(env, Q, num_episodes, *, gamma):\n",
        "    '''\n",
        "    Monte Carlo policy Evaluation.\n",
        "    \n",
        "    Args:\n",
        "        env: The environment to train the agent on.\n",
        "        Q is a dictionary mapping state -> action values array.\n",
        "        num_episodes: The number of episodes for which to evaluate the agent.\n",
        "        gamma: The discount factor.\n",
        "        \n",
        "    Returns:\n",
        "        returns is a list containing the rewards obtained for each episode.\n",
        "    '''\n",
        "    returns = np.empty(num_episodes)\n",
        "\n",
        "    pbar = tqdm.tnrange(num_episodes, leave=False)\n",
        "    for i in pbar:\n",
        "        # YOUR CODE HERE:  sample an episode using the epsilon-greedy policy,\n",
        "        # and use the transition list to compute returns and update Q and C.\n",
        "        G=0\n",
        "        trans=sample_episode(env,Q,eps=0)\n",
        "        trans.reverse()\n",
        "        for count2 in trans:\n",
        "            G=(gamma*G)+count2[2]  #On policy\n",
        "        returns[i]=G    \n",
        "        pbar.set_description(f'Episodes G={G}')\n",
        "    #FOR ON POLICY GREEDY        \n",
        "    return returns"
      ]
    },
    {
      "cell_type": "markdown",
      "metadata": {
        "id": "ZMH9k040xrDl"
      },
      "source": [
        "c) (5 pts) Now run off-policy every-visit Importance Sampling control for 50 runs and 10k episodes, with $\\epsilon = 0.1$, and plot the returns as you did previously.  Then, evaluate the Q function obtained by one of the 50 runs using the on-policy evaluation function, and print the resulting returns' mean and standard deviation."
      ]
    },
    {
      "cell_type": "code",
      "execution_count": null,
      "metadata": {
        "id": "o5K8wi-ExrDl",
        "outputId": "43bec5ee-2a7e-43be-8a5d-23c237a70648",
        "colab": {
          "referenced_widgets": [
            "e229b8f2512d48b284d1a8c933a0137f",
            "",
            "05e5d78be5bb492091cb3b205ff05504",
            "2ab152224c394c14a6450ff6a013264f",
            "d1b71e43b8014b1c940f80697c9b7ed2",
            "d5545d94396d4861910a106db37fa417"
          ]
        }
      },
      "outputs": [
        {
          "data": {
            "application/vnd.jupyter.widget-view+json": {
              "model_id": "e229b8f2512d48b284d1a8c933a0137f",
              "version_major": 2,
              "version_minor": 0
            },
            "text/plain": [
              "HBox(children=(IntProgress(value=0, description='Runs (IS)', max=50, style=ProgressStyle(description_width='in…"
            ]
          },
          "metadata": {},
          "output_type": "display_data"
        },
        {
          "data": {
            "application/vnd.jupyter.widget-view+json": {
              "model_id": "",
              "version_major": 2,
              "version_minor": 0
            },
            "text/plain": [
              "HBox(children=(IntProgress(value=0, max=10000), HTML(value='')))"
            ]
          },
          "metadata": {},
          "output_type": "display_data"
        },
        {
          "data": {
            "application/vnd.jupyter.widget-view+json": {
              "model_id": "",
              "version_major": 2,
              "version_minor": 0
            },
            "text/plain": [
              "HBox(children=(IntProgress(value=0, max=10000), HTML(value='')))"
            ]
          },
          "metadata": {},
          "output_type": "display_data"
        },
        {
          "data": {
            "application/vnd.jupyter.widget-view+json": {
              "model_id": "",
              "version_major": 2,
              "version_minor": 0
            },
            "text/plain": [
              "HBox(children=(IntProgress(value=0, max=10000), HTML(value='')))"
            ]
          },
          "metadata": {},
          "output_type": "display_data"
        },
        {
          "data": {
            "application/vnd.jupyter.widget-view+json": {
              "model_id": "",
              "version_major": 2,
              "version_minor": 0
            },
            "text/plain": [
              "HBox(children=(IntProgress(value=0, max=10000), HTML(value='')))"
            ]
          },
          "metadata": {},
          "output_type": "display_data"
        },
        {
          "data": {
            "application/vnd.jupyter.widget-view+json": {
              "model_id": "",
              "version_major": 2,
              "version_minor": 0
            },
            "text/plain": [
              "HBox(children=(IntProgress(value=0, max=10000), HTML(value='')))"
            ]
          },
          "metadata": {},
          "output_type": "display_data"
        },
        {
          "data": {
            "application/vnd.jupyter.widget-view+json": {
              "model_id": "",
              "version_major": 2,
              "version_minor": 0
            },
            "text/plain": [
              "HBox(children=(IntProgress(value=0, max=10000), HTML(value='')))"
            ]
          },
          "metadata": {},
          "output_type": "display_data"
        },
        {
          "data": {
            "application/vnd.jupyter.widget-view+json": {
              "model_id": "",
              "version_major": 2,
              "version_minor": 0
            },
            "text/plain": [
              "HBox(children=(IntProgress(value=0, max=10000), HTML(value='')))"
            ]
          },
          "metadata": {},
          "output_type": "display_data"
        },
        {
          "data": {
            "application/vnd.jupyter.widget-view+json": {
              "model_id": "",
              "version_major": 2,
              "version_minor": 0
            },
            "text/plain": [
              "HBox(children=(IntProgress(value=0, max=10000), HTML(value='')))"
            ]
          },
          "metadata": {},
          "output_type": "display_data"
        },
        {
          "data": {
            "application/vnd.jupyter.widget-view+json": {
              "model_id": "05e5d78be5bb492091cb3b205ff05504",
              "version_major": 2,
              "version_minor": 0
            },
            "text/plain": [
              "HBox(children=(IntProgress(value=0, max=10000), HTML(value='')))"
            ]
          },
          "metadata": {},
          "output_type": "display_data"
        },
        {
          "data": {
            "application/vnd.jupyter.widget-view+json": {
              "model_id": "",
              "version_major": 2,
              "version_minor": 0
            },
            "text/plain": [
              "HBox(children=(IntProgress(value=0, max=10000), HTML(value='')))"
            ]
          },
          "metadata": {},
          "output_type": "display_data"
        },
        {
          "data": {
            "application/vnd.jupyter.widget-view+json": {
              "model_id": "2ab152224c394c14a6450ff6a013264f",
              "version_major": 2,
              "version_minor": 0
            },
            "text/plain": [
              "HBox(children=(IntProgress(value=0, max=10000), HTML(value='')))"
            ]
          },
          "metadata": {},
          "output_type": "display_data"
        },
        {
          "data": {
            "application/vnd.jupyter.widget-view+json": {
              "model_id": "d1b71e43b8014b1c940f80697c9b7ed2",
              "version_major": 2,
              "version_minor": 0
            },
            "text/plain": [
              "HBox(children=(IntProgress(value=0, max=10000), HTML(value='')))"
            ]
          },
          "metadata": {},
          "output_type": "display_data"
        },
        {
          "data": {
            "application/vnd.jupyter.widget-view+json": {
              "model_id": "d5545d94396d4861910a106db37fa417",
              "version_major": 2,
              "version_minor": 0
            },
            "text/plain": [
              "HBox(children=(IntProgress(value=0, max=10000), HTML(value='')))"
            ]
          },
          "metadata": {},
          "output_type": "display_data"
        }
      ],
      "source": [
        "num_runs, num_episodes = 50, 10_000\n",
        "#for off policy\n",
        "returns_is = np.empty((num_runs, num_episodes))\n",
        "\n",
        "for i in tqdm.tnrange(num_runs, desc='Runs (IS)'):\n",
        "    # YOUR CODE HERE\n",
        "    Q_,returns = off_policy_every_visit_weighted_control(env_blackjack, num_episodes, eps=0.1, gamma=0.12)\n",
        "    returns_is[i] = returns\n",
        "# YOUR CODE HERE\n",
        "returns_on=on_policy_mc_evaluation(env_blackjack,Q_,num_episodes, gamma=1)\n",
        "\n",
        "#print(returns_mc)\n",
        "#returns_on=returns    \n"
      ]
    },
    {
      "cell_type": "code",
      "execution_count": null,
      "metadata": {
        "id": "PvAmx8zrxrDl"
      },
      "outputs": [],
      "source": []
    },
    {
      "cell_type": "code",
      "execution_count": null,
      "metadata": {
        "id": "mcANnBzbxrDm",
        "outputId": "4b82affd-4d2d-4619-9989-87d969438785"
      },
      "outputs": [
        {
          "name": "stdout",
          "output_type": "stream",
          "text": [
            "[-0.36 -0.52 -0.18 ... -0.12 -0.16  0.06]\n"
          ]
        },
        {
          "data": {
            "image/png": "[encoded data removed]",
            "text/plain": [
              "<Figure size 432x288 with 1 Axes>"
            ]
          },
          "metadata": {},
          "output_type": "display_data"
        }
      ],
      "source": [
        "avg_returns_off=returns_is.sum(axis=0)/float(num_runs)\n",
        "print(avg_returns_off)\n",
        "#seq1=np.linspace(1,num_episodes+1,1)\n",
        "seq1=np.arange(1,num_episodes+1)\n",
        "seq2=rolling_average(avg_returns_off,window_size=50)\n",
        "\n",
        "plt.plot(seq1, avg_returns_off)\n",
        "plt.plot(seq1, seq2)\n",
        "\n",
        "avg_returns_on=returns_on.sum(axis=0)/float(num_runs)\n"
      ]
    },
    {
      "cell_type": "code",
      "execution_count": null,
      "metadata": {
        "id": "UfnBivv9xrDm",
        "outputId": "6afd809b-02bd-4cb2-d0d3-53e4ddbc288a"
      },
      "outputs": [
        {
          "name": "stdout",
          "output_type": "stream",
          "text": [
            "MEAN -0.151962\n",
            "STD_deviation 0.951660417667983\n"
          ]
        }
      ],
      "source": [
        "#FOR WEIGHTED\n",
        "import statistics\n",
        "mean_mc_weighted=np.mean(returns_is)\n",
        "stand_dev_mc_weighted=np.std(returns_is)\n",
        "print(\"MEAN\",mean_mc_weighted)\n",
        "print(\"STD_deviation\",stand_dev_mc_weighted)"
      ]
    },
    {
      "cell_type": "code",
      "execution_count": null,
      "metadata": {
        "id": "tzy9rNhQxrDm",
        "outputId": "e834ebab-8fbd-4760-b789-f26f6485b214"
      },
      "outputs": [
        {
          "name": "stdout",
          "output_type": "stream",
          "text": [
            "MEAN -0.0774\n",
            "STD_deviation 0.9536771938234666\n"
          ]
        }
      ],
      "source": [
        "#FOR GREEDY ON POLICY\n",
        "\n",
        "mean_mc_on=np.mean(returns_on)\n",
        "stand_dev_mc_on=statistics.stdev(returns_on)\n",
        "print(\"MEAN\",mean_mc_on)\n",
        "print(\"STD_deviation\",stand_dev_mc_on)"
      ]
    },
    {
      "cell_type": "markdown",
      "metadata": {
        "id": "3uqQmPtbxrDm"
      },
      "source": [
        "d) **[graduate]** (5 pts) Do the mean and std match what is shown in the plot you got in exercise (7a)?  If not, explain why they are different."
      ]
    },
    {
      "cell_type": "markdown",
      "metadata": {
        "id": "2PwncbFkxrDn"
      },
      "source": [
        "**YOUR ANSWER HERE**"
      ]
    },
    {
      "cell_type": "code",
      "execution_count": null,
      "metadata": {
        "id": "k3Pd0oPqxrDn"
      },
      "outputs": [],
      "source": []
    }
  ],
  "metadata": {
    "kernelspec": {
      "display_name": "Python 3",
      "language": "python",
      "name": "python3"
    },
    "language_info": {
      "codemirror_mode": {
        "name": "ipython",
        "version": 3
      },
      "file_extension": ".py",
      "mimetype": "text/x-python",
      "name": "python",
      "nbconvert_exporter": "python",
      "pygments_lexer": "ipython3",
      "version": "3.7.5"
    },
    "colab": {
      "provenance": [],
      "include_colab_link": true
    }
  },
  "nbformat": 4,
  "nbformat_minor": 0
}